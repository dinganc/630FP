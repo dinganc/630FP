{
 "cells": [
  {
   "cell_type": "code",
   "execution_count": 84,
   "metadata": {},
   "outputs": [],
   "source": [
    "import sqlite3\n",
    "import utils\n",
    "import pandas as pd\n",
    "from sklearn.model_selection import train_test_split\n",
    "from sklearn.linear_model import LogisticRegression\n",
    "from sklearn.metrics import f1_score\n",
    "from sklearn.neighbors import KNeighborsClassifier \n",
    "from sklearn.tree import DecisionTreeClassifier\n",
    "from sklearn.naive_bayes import GaussianNB\n",
    "from sklearn.dummy import DummyClassifier\n",
    "from sklearn import ensemble\n",
    "from scipy.sparse import coo_matrix\n",
    "from sklearn import svm\n",
    "\n",
    "import xgboost\n",
    "from keras.preprocessing import text, sequence\n",
    "from keras import layers, models, optimizers\n",
    "\n",
    "import numpy as np\n",
    "import torch"
   ]
  },
  {
   "cell_type": "code",
   "execution_count": 85,
   "metadata": {},
   "outputs": [],
   "source": [
    "import keras.backend as K"
   ]
  },
  {
   "cell_type": "code",
   "execution_count": 86,
   "metadata": {},
   "outputs": [],
   "source": [
    "def w2v_average_wiki():\n",
    "    conn=sqlite3.connect('songs.db')\n",
    "    cur=conn.cursor()\n",
    "    example_text=cur.execute(\"select Lyrics from song where Lyrics is not null\").fetchall()\n",
    "    labels=[i[0] for i in cur.execute(\"select Economic from song where Lyrics is not null\").fetchall()]\n",
    "    songs=[]\n",
    "    for i in example_text:\n",
    "        songs.append(utils.tokenize_word(utils.clean_text(i[0])))\n",
    "    songs=utils.w2v_average_wiki(songs,'glove-wiki-gigaword-200')\n",
    "    return np.array(songs),np.array(labels)"
   ]
  },
  {
   "cell_type": "code",
   "execution_count": 87,
   "metadata": {},
   "outputs": [],
   "source": [
    "def limit_mem():\n",
    "    K.get_session().close()\n",
    "    cfg = K.tf.ConfigProto()\n",
    "    cfg.gpu_options.allow_growth = True\n",
    "    K.set_session(K.tf.Session(config=cfg))"
   ]
  },
  {
   "cell_type": "code",
   "execution_count": 88,
   "metadata": {},
   "outputs": [
    {
     "name": "stderr",
     "output_type": "stream",
     "text": [
      "Exception ignored in: <bound method BaseSession._Callable.__del__ of <tensorflow.python.client.session.BaseSession._Callable object at 0x000002C941C96908>>\n",
      "Traceback (most recent call last):\n",
      "  File \"C:\\Users\\X\\AppData\\Local\\Continuum\\anaconda3\\envs\\mlgpu\\lib\\site-packages\\tensorflow\\python\\client\\session.py\", line 1455, in __del__\n",
      "    self._session._session, self._handle, status)\n",
      "  File \"C:\\Users\\X\\AppData\\Local\\Continuum\\anaconda3\\envs\\mlgpu\\lib\\site-packages\\tensorflow\\python\\framework\\errors_impl.py\", line 528, in __exit__\n",
      "    c_api.TF_GetCode(self.status.status))\n",
      "tensorflow.python.framework.errors_impl.CancelledError: Session has been closed.\n",
      "Exception ignored in: <bound method BaseSession._Callable.__del__ of <tensorflow.python.client.session.BaseSession._Callable object at 0x000002C95D85E2E8>>\n",
      "Traceback (most recent call last):\n",
      "  File \"C:\\Users\\X\\AppData\\Local\\Continuum\\anaconda3\\envs\\mlgpu\\lib\\site-packages\\tensorflow\\python\\client\\session.py\", line 1455, in __del__\n",
      "    self._session._session, self._handle, status)\n",
      "  File \"C:\\Users\\X\\AppData\\Local\\Continuum\\anaconda3\\envs\\mlgpu\\lib\\site-packages\\tensorflow\\python\\framework\\errors_impl.py\", line 528, in __exit__\n",
      "    c_api.TF_GetCode(self.status.status))\n",
      "tensorflow.python.framework.errors_impl.CancelledError: Session has been closed.\n"
     ]
    }
   ],
   "source": [
    "X,y=w2v_average_wiki()"
   ]
  },
  {
   "cell_type": "code",
   "execution_count": 89,
   "metadata": {},
   "outputs": [],
   "source": [
    "X_train,X_test,y_train,y_test=train_test_split(X,y,test_size=0.5)"
   ]
  },
  {
   "cell_type": "code",
   "execution_count": 90,
   "metadata": {},
   "outputs": [],
   "source": [
    "def dummy(X_train,X_test,y_train,y_test):\n",
    "    dummy = DummyClassifier()\n",
    "    dummy.fit(X_train, y_train)\n",
    "    y_pred=dummy.predict(X_test)\n",
    "    return f1_score(y_test,y_pred)"
   ]
  },
  {
   "cell_type": "code",
   "execution_count": 91,
   "metadata": {},
   "outputs": [
    {
     "name": "stdout",
     "output_type": "stream",
     "text": [
      "0.43546730571722014\n"
     ]
    }
   ],
   "source": [
    "print(dummy(X_train,X_test,y_train,y_test))"
   ]
  },
  {
   "cell_type": "code",
   "execution_count": 92,
   "metadata": {},
   "outputs": [],
   "source": [
    "def logistics_sentiment():\n",
    "    conn=sqlite3.connect('SONGS.db')\n",
    "    data=pd.read_sql(\"select Economic,neg,pos,neu,comp from song\",conn).dropna()\n",
    "    X=data[['neg','pos','neu','comp']]\n",
    "    y=data.Economic\n",
    "    X_train,X_test,y_train,y_test=train_test_split(X,y,test_size=0.3)\n",
    "    logreg = LogisticRegression()\n",
    "    logreg.fit(X_train,y_train)\n",
    "    y_pred=logreg.predict(X_test)\n",
    "    return f1_score(y_test,y_pred)"
   ]
  },
  {
   "cell_type": "code",
   "execution_count": 93,
   "metadata": {},
   "outputs": [
    {
     "name": "stdout",
     "output_type": "stream",
     "text": [
      "0.0\n"
     ]
    },
    {
     "name": "stderr",
     "output_type": "stream",
     "text": [
      "C:\\Users\\X\\AppData\\Local\\Continuum\\anaconda3\\envs\\mlgpu\\lib\\site-packages\\sklearn\\linear_model\\logistic.py:433: FutureWarning: Default solver will be changed to 'lbfgs' in 0.22. Specify a solver to silence this warning.\n",
      "  FutureWarning)\n",
      "C:\\Users\\X\\AppData\\Local\\Continuum\\anaconda3\\envs\\mlgpu\\lib\\site-packages\\sklearn\\metrics\\classification.py:1143: UndefinedMetricWarning: F-score is ill-defined and being set to 0.0 due to no predicted samples.\n",
      "  'precision', 'predicted', average, warn_for)\n"
     ]
    }
   ],
   "source": [
    "print(logistics_sentiment())"
   ]
  },
  {
   "cell_type": "code",
   "execution_count": 94,
   "metadata": {},
   "outputs": [],
   "source": [
    "def logistics(X_train,X_test,y_train,y_test):\n",
    "    logreg = LogisticRegression()\n",
    "    logreg.fit(X_train,y_train)\n",
    "    y_pred=logreg.predict(X_test)\n",
    "    return f1_score(y_test,y_pred)"
   ]
  },
  {
   "cell_type": "code",
   "execution_count": 95,
   "metadata": {},
   "outputs": [
    {
     "name": "stdout",
     "output_type": "stream",
     "text": [
      "0.44390832328106156"
     ]
    },
    {
     "name": "stderr",
     "output_type": "stream",
     "text": [
      "C:\\Users\\X\\AppData\\Local\\Continuum\\anaconda3\\envs\\mlgpu\\lib\\site-packages\\sklearn\\linear_model\\logistic.py:433: FutureWarning: Default solver will be changed to 'lbfgs' in 0.22. Specify a solver to silence this warning.\n",
      "  FutureWarning)\n"
     ]
    },
    {
     "name": "stdout",
     "output_type": "stream",
     "text": [
      "\n"
     ]
    }
   ],
   "source": [
    "print(logistics(X_train,X_test,y_train,y_test))"
   ]
  },
  {
   "cell_type": "code",
   "execution_count": 96,
   "metadata": {},
   "outputs": [],
   "source": [
    "def naive_bayes(X_train,X_test,y_train,y_test):\n",
    "    nb=GaussianNB()\n",
    "    nb.fit(X_train, y_train)\n",
    "    y_pred=nb.predict(X_test)\n",
    "    return f1_score(y_test,y_pred)"
   ]
  },
  {
   "cell_type": "code",
   "execution_count": 97,
   "metadata": {},
   "outputs": [
    {
     "name": "stdout",
     "output_type": "stream",
     "text": [
      "0.5605167087896658\n"
     ]
    }
   ],
   "source": [
    "print(naive_bayes(X_train,X_test,y_train,y_test))"
   ]
  },
  {
   "cell_type": "code",
   "execution_count": 98,
   "metadata": {},
   "outputs": [],
   "source": [
    "def support_vector(X_train,X_test,y_train,y_test):\n",
    "    model = svm.SVC()\n",
    "    model.fit(X_train, y_train)\n",
    "    y_pred = model.predict(X_test)\n",
    "    return f1_score(y_test, y_pred)"
   ]
  },
  {
   "cell_type": "code",
   "execution_count": 99,
   "metadata": {},
   "outputs": [
    {
     "name": "stderr",
     "output_type": "stream",
     "text": [
      "C:\\Users\\X\\AppData\\Local\\Continuum\\anaconda3\\envs\\mlgpu\\lib\\site-packages\\sklearn\\svm\\base.py:196: FutureWarning: The default value of gamma will change from 'auto' to 'scale' in version 0.22 to account better for unscaled features. Set gamma explicitly to 'auto' or 'scale' to avoid this warning.\n",
      "  \"avoid this warning.\", FutureWarning)\n"
     ]
    },
    {
     "name": "stdout",
     "output_type": "stream",
     "text": [
      "0.0\n"
     ]
    },
    {
     "name": "stderr",
     "output_type": "stream",
     "text": [
      "C:\\Users\\X\\AppData\\Local\\Continuum\\anaconda3\\envs\\mlgpu\\lib\\site-packages\\sklearn\\metrics\\classification.py:1143: UndefinedMetricWarning: F-score is ill-defined and being set to 0.0 due to no predicted samples.\n",
      "  'precision', 'predicted', average, warn_for)\n"
     ]
    }
   ],
   "source": [
    "print(support_vector(X_train,X_test,y_train,y_test))"
   ]
  },
  {
   "cell_type": "code",
   "execution_count": 100,
   "metadata": {},
   "outputs": [],
   "source": [
    "def knn(X_train,X_test,y_train,y_test):\n",
    "    model = KNeighborsClassifier(n_neighbors=5) \n",
    "    model.fit(X_train, y_train)\n",
    "    y_pred = model.predict(X_test)\n",
    "    return f1_score(y_test, y_pred)"
   ]
  },
  {
   "cell_type": "code",
   "execution_count": 101,
   "metadata": {},
   "outputs": [
    {
     "name": "stdout",
     "output_type": "stream",
     "text": [
      "0.5021048603138154\n"
     ]
    }
   ],
   "source": [
    "print(knn(X_train,X_test,y_train,y_test))"
   ]
  },
  {
   "cell_type": "code",
   "execution_count": 102,
   "metadata": {},
   "outputs": [],
   "source": [
    "def decision_tree(X_train,X_test,y_train,y_test):\n",
    "    model = DecisionTreeClassifier(random_state=0)\n",
    "    model.fit(X_train, y_train)\n",
    "    y_pred = model.predict(X_test)\n",
    "    return f1_score(y_test, y_pred)"
   ]
  },
  {
   "cell_type": "code",
   "execution_count": 103,
   "metadata": {},
   "outputs": [
    {
     "name": "stdout",
     "output_type": "stream",
     "text": [
      "0.6039004707464695\n"
     ]
    }
   ],
   "source": [
    "print(decision_tree(X_train,X_test,y_train,y_test))"
   ]
  },
  {
   "cell_type": "code",
   "execution_count": 104,
   "metadata": {},
   "outputs": [],
   "source": [
    "def random_forest(X_train,X_test,y_train,y_test):\n",
    "    model=ensemble.RandomForestClassifier()\n",
    "    model.fit(X_train, y_train)\n",
    "    y_pred = model.predict(X_test)\n",
    "    return f1_score(y_test, y_pred)"
   ]
  },
  {
   "cell_type": "code",
   "execution_count": 105,
   "metadata": {},
   "outputs": [
    {
     "name": "stderr",
     "output_type": "stream",
     "text": [
      "C:\\Users\\X\\AppData\\Local\\Continuum\\anaconda3\\envs\\mlgpu\\lib\\site-packages\\sklearn\\ensemble\\forest.py:246: FutureWarning: The default value of n_estimators will change from 10 in version 0.20 to 100 in 0.22.\n",
      "  \"10 in version 0.20 to 100 in 0.22.\", FutureWarning)\n"
     ]
    },
    {
     "name": "stdout",
     "output_type": "stream",
     "text": [
      "0.5603414823438105\n"
     ]
    }
   ],
   "source": [
    "print(random_forest(X_train,X_test,y_train,y_test))"
   ]
  },
  {
   "cell_type": "code",
   "execution_count": 106,
   "metadata": {},
   "outputs": [],
   "source": [
    "def xgb(X_train,X_test,y_train,y_test):\n",
    "    X_train=coo_matrix(X_train).tocsc()\n",
    "    X_test=coo_matrix(X_test).tocsc()\n",
    "    model=xgboost.XGBClassifier()\n",
    "    model.fit(X_train, y_train)\n",
    "    y_pred = model.predict(X_test)\n",
    "    return f1_score(y_test, y_pred)"
   ]
  },
  {
   "cell_type": "code",
   "execution_count": 107,
   "metadata": {},
   "outputs": [
    {
     "name": "stdout",
     "output_type": "stream",
     "text": [
      "0.5361867704280155\n"
     ]
    }
   ],
   "source": [
    "print(xgb(X_train,X_test,y_train,y_test))"
   ]
  },
  {
   "cell_type": "code",
   "execution_count": 108,
   "metadata": {},
   "outputs": [],
   "source": [
    "def simple_nn(X_train,X_test,y_train,y_test):\n",
    "\n",
    "    def create_model_architecture(input_size):\n",
    "        input_layer = layers.Input(shape=(input_size,),)\n",
    "        hidden_layer = layers.Dense(200, activation=\"relu\")(input_layer)\n",
    "        output_layer = layers.Dense(1, activation=\"sigmoid\")(hidden_layer)\n",
    "        classifier = models.Model(inputs = input_layer, outputs = output_layer)\n",
    "        classifier.compile(optimizer=optimizers.Adam(), loss='binary_crossentropy')\n",
    "        return classifier\n",
    "\n",
    "    model=create_model_architecture(len(X_train[0]))\n",
    "    model.fit(X_train, y_train,epochs=100)\n",
    "    y_pred = [int(round(i[0])) for i in model.predict(X_test)]\n",
    "    limit_mem()\n",
    "    return f1_score(y_test, y_pred)"
   ]
  },
  {
   "cell_type": "code",
   "execution_count": 109,
   "metadata": {},
   "outputs": [
    {
     "name": "stdout",
     "output_type": "stream",
     "text": [
      "Epoch 1/100\n",
      "3327/3327 [==============================] - 1s 158us/step - loss: 0.6845\n",
      "Epoch 2/100\n",
      "3327/3327 [==============================] - 0s 76us/step - loss: 0.6698\n",
      "Epoch 3/100\n",
      "3327/3327 [==============================] - 0s 78us/step - loss: 0.6601\n",
      "Epoch 4/100\n",
      "3327/3327 [==============================] - 0s 73us/step - loss: 0.6580\n",
      "Epoch 5/100\n",
      "3327/3327 [==============================] - 0s 77us/step - loss: 0.6464\n",
      "Epoch 6/100\n",
      "3327/3327 [==============================] - 0s 76us/step - loss: 0.6342\n",
      "Epoch 7/100\n",
      "3327/3327 [==============================] - 0s 74us/step - loss: 0.6258\n",
      "Epoch 8/100\n",
      "3327/3327 [==============================] - 0s 68us/step - loss: 0.6157\n",
      "Epoch 9/100\n",
      "3327/3327 [==============================] - 0s 68us/step - loss: 0.6048\n",
      "Epoch 10/100\n",
      "3327/3327 [==============================] - 0s 68us/step - loss: 0.5931\n",
      "Epoch 11/100\n",
      "3327/3327 [==============================] - 0s 70us/step - loss: 0.5831\n",
      "Epoch 12/100\n",
      "3327/3327 [==============================] - 0s 68us/step - loss: 0.5732\n",
      "Epoch 13/100\n",
      "3327/3327 [==============================] - 0s 68us/step - loss: 0.5659\n",
      "Epoch 14/100\n",
      "3327/3327 [==============================] - 0s 68us/step - loss: 0.5512\n",
      "Epoch 15/100\n",
      "3327/3327 [==============================] - 0s 70us/step - loss: 0.5342\n",
      "Epoch 16/100\n",
      "3327/3327 [==============================] - 0s 69us/step - loss: 0.5297\n",
      "Epoch 17/100\n",
      "3327/3327 [==============================] - 0s 68us/step - loss: 0.5151\n",
      "Epoch 18/100\n",
      "3327/3327 [==============================] - 0s 71us/step - loss: 0.5006\n",
      "Epoch 19/100\n",
      "3327/3327 [==============================] - 0s 70us/step - loss: 0.4979\n",
      "Epoch 20/100\n",
      "3327/3327 [==============================] - 0s 65us/step - loss: 0.4787\n",
      "Epoch 21/100\n",
      "3327/3327 [==============================] - 0s 65us/step - loss: 0.4650\n",
      "Epoch 22/100\n",
      "3327/3327 [==============================] - 0s 75us/step - loss: 0.4567\n",
      "Epoch 23/100\n",
      "3327/3327 [==============================] - 0s 77us/step - loss: 0.4487\n",
      "Epoch 24/100\n",
      "3327/3327 [==============================] - 0s 82us/step - loss: 0.4367\n",
      "Epoch 25/100\n",
      "3327/3327 [==============================] - 0s 70us/step - loss: 0.4267\n",
      "Epoch 26/100\n",
      "3327/3327 [==============================] - 0s 80us/step - loss: 0.4122\n",
      "Epoch 27/100\n",
      "3327/3327 [==============================] - 0s 78us/step - loss: 0.4053\n",
      "Epoch 28/100\n",
      "3327/3327 [==============================] - 0s 78us/step - loss: 0.3963\n",
      "Epoch 29/100\n",
      "3327/3327 [==============================] - 0s 72us/step - loss: 0.3997\n",
      "Epoch 30/100\n",
      "3327/3327 [==============================] - 0s 73us/step - loss: 0.3747\n",
      "Epoch 31/100\n",
      "3327/3327 [==============================] - 0s 71us/step - loss: 0.3686\n",
      "Epoch 32/100\n",
      "3327/3327 [==============================] - 0s 73us/step - loss: 0.3559\n",
      "Epoch 33/100\n",
      "3327/3327 [==============================] - 0s 71us/step - loss: 0.3473\n",
      "Epoch 34/100\n",
      "3327/3327 [==============================] - 0s 72us/step - loss: 0.3459\n",
      "Epoch 35/100\n",
      "3327/3327 [==============================] - 0s 70us/step - loss: 0.3383\n",
      "Epoch 36/100\n",
      "3327/3327 [==============================] - 0s 71us/step - loss: 0.3236\n",
      "Epoch 37/100\n",
      "3327/3327 [==============================] - 0s 69us/step - loss: 0.3189\n",
      "Epoch 38/100\n",
      "3327/3327 [==============================] - 0s 68us/step - loss: 0.3124\n",
      "Epoch 39/100\n",
      "3327/3327 [==============================] - 0s 69us/step - loss: 0.3081\n",
      "Epoch 40/100\n",
      "3327/3327 [==============================] - 0s 70us/step - loss: 0.2944\n",
      "Epoch 41/100\n",
      "3327/3327 [==============================] - 0s 70us/step - loss: 0.2815\n",
      "Epoch 42/100\n",
      "3327/3327 [==============================] - 0s 73us/step - loss: 0.2898\n",
      "Epoch 43/100\n",
      "3327/3327 [==============================] - 0s 79us/step - loss: 0.2762\n",
      "Epoch 44/100\n",
      "3327/3327 [==============================] - 0s 87us/step - loss: 0.2660\n",
      "Epoch 45/100\n",
      "3327/3327 [==============================] - 0s 78us/step - loss: 0.2643\n",
      "Epoch 46/100\n",
      "3327/3327 [==============================] - 0s 72us/step - loss: 0.2602\n",
      "Epoch 47/100\n",
      "3327/3327 [==============================] - 0s 75us/step - loss: 0.2462\n",
      "Epoch 48/100\n",
      "3327/3327 [==============================] - 0s 73us/step - loss: 0.2496\n",
      "Epoch 49/100\n",
      "3327/3327 [==============================] - 0s 71us/step - loss: 0.2412\n",
      "Epoch 50/100\n",
      "3327/3327 [==============================] - 0s 69us/step - loss: 0.2338\n",
      "Epoch 51/100\n",
      "3327/3327 [==============================] - 0s 69us/step - loss: 0.2209\n",
      "Epoch 52/100\n",
      "3327/3327 [==============================] - 0s 68us/step - loss: 0.2200\n",
      "Epoch 53/100\n",
      "3327/3327 [==============================] - 0s 71us/step - loss: 0.2167\n",
      "Epoch 54/100\n",
      "3327/3327 [==============================] - 0s 68us/step - loss: 0.2084\n",
      "Epoch 55/100\n",
      "3327/3327 [==============================] - 0s 68us/step - loss: 0.2006\n",
      "Epoch 56/100\n",
      "3327/3327 [==============================] - 0s 69us/step - loss: 0.1997\n",
      "Epoch 57/100\n",
      "3327/3327 [==============================] - 0s 70us/step - loss: 0.1926\n",
      "Epoch 58/100\n",
      "3327/3327 [==============================] - 0s 78us/step - loss: 0.1921\n",
      "Epoch 59/100\n",
      "3327/3327 [==============================] - 0s 68us/step - loss: 0.1945\n",
      "Epoch 60/100\n",
      "3327/3327 [==============================] - 0s 70us/step - loss: 0.1876\n",
      "Epoch 61/100\n",
      "3327/3327 [==============================] - 0s 70us/step - loss: 0.1854\n",
      "Epoch 62/100\n",
      "3327/3327 [==============================] - 0s 69us/step - loss: 0.1744\n",
      "Epoch 63/100\n",
      "3327/3327 [==============================] - 0s 68us/step - loss: 0.1975\n",
      "Epoch 64/100\n",
      "3327/3327 [==============================] - 0s 68us/step - loss: 0.1965\n",
      "Epoch 65/100\n",
      "3327/3327 [==============================] - 0s 81us/step - loss: 0.1919\n",
      "Epoch 66/100\n",
      "3327/3327 [==============================] - 0s 71us/step - loss: 0.1865\n",
      "Epoch 67/100\n",
      "3327/3327 [==============================] - 0s 71us/step - loss: 0.1605\n",
      "Epoch 68/100\n",
      "3327/3327 [==============================] - 0s 76us/step - loss: 0.1525\n",
      "Epoch 69/100\n",
      "3327/3327 [==============================] - 0s 71us/step - loss: 0.1596\n",
      "Epoch 70/100\n",
      "3327/3327 [==============================] - 0s 73us/step - loss: 0.1534\n",
      "Epoch 71/100\n",
      "3327/3327 [==============================] - 0s 69us/step - loss: 0.1412\n",
      "Epoch 72/100\n",
      "3327/3327 [==============================] - 0s 69us/step - loss: 0.1464\n",
      "Epoch 73/100\n",
      "3327/3327 [==============================] - 0s 69us/step - loss: 0.1578\n",
      "Epoch 74/100\n",
      "3327/3327 [==============================] - 0s 70us/step - loss: 0.1509\n",
      "Epoch 75/100\n",
      "3327/3327 [==============================] - 0s 69us/step - loss: 0.1493\n",
      "Epoch 76/100\n",
      "3327/3327 [==============================] - 0s 69us/step - loss: 0.1463\n",
      "Epoch 77/100\n",
      "3327/3327 [==============================] - 0s 68us/step - loss: 0.1448\n",
      "Epoch 78/100\n",
      "3327/3327 [==============================] - 0s 70us/step - loss: 0.1167\n",
      "Epoch 79/100\n",
      "3327/3327 [==============================] - 0s 69us/step - loss: 0.1362\n",
      "Epoch 80/100\n",
      "3327/3327 [==============================] - 0s 68us/step - loss: 0.1389\n",
      "Epoch 81/100\n",
      "3327/3327 [==============================] - 0s 68us/step - loss: 0.1320\n",
      "Epoch 82/100\n",
      "3327/3327 [==============================] - 0s 69us/step - loss: 0.1294\n",
      "Epoch 83/100\n",
      "3327/3327 [==============================] - 0s 73us/step - loss: 0.1353\n",
      "Epoch 84/100\n",
      "3327/3327 [==============================] - 0s 70us/step - loss: 0.1249\n",
      "Epoch 85/100\n",
      "3327/3327 [==============================] - 0s 68us/step - loss: 0.1268\n",
      "Epoch 86/100\n",
      "3327/3327 [==============================] - 0s 77us/step - loss: 0.1073\n",
      "Epoch 87/100\n",
      "3327/3327 [==============================] - 0s 76us/step - loss: 0.1075\n",
      "Epoch 88/100\n",
      "3327/3327 [==============================] - 0s 79us/step - loss: 0.1175\n",
      "Epoch 89/100\n",
      "3327/3327 [==============================] - 0s 81us/step - loss: 0.1192\n",
      "Epoch 90/100\n",
      "3327/3327 [==============================] - 0s 77us/step - loss: 0.1212\n",
      "Epoch 91/100\n",
      "3327/3327 [==============================] - 0s 78us/step - loss: 0.0975\n",
      "Epoch 92/100\n",
      "3327/3327 [==============================] - 0s 71us/step - loss: 0.1141\n",
      "Epoch 93/100\n",
      "3327/3327 [==============================] - 0s 70us/step - loss: 0.1076\n",
      "Epoch 94/100\n",
      "3327/3327 [==============================] - 0s 69us/step - loss: 0.1129\n",
      "Epoch 95/100\n",
      "3327/3327 [==============================] - 0s 71us/step - loss: 0.1046\n",
      "Epoch 96/100\n"
     ]
    },
    {
     "name": "stdout",
     "output_type": "stream",
     "text": [
      "3327/3327 [==============================] - 0s 72us/step - loss: 0.1102\n",
      "Epoch 97/100\n",
      "3327/3327 [==============================] - 0s 71us/step - loss: 0.1019\n",
      "Epoch 98/100\n",
      "3327/3327 [==============================] - 0s 70us/step - loss: 0.1016\n",
      "Epoch 99/100\n",
      "3327/3327 [==============================] - 0s 72us/step - loss: 0.1016\n",
      "Epoch 100/100\n",
      "3327/3327 [==============================] - 0s 70us/step - loss: 0.0970\n",
      "0.6096328730212193\n"
     ]
    }
   ],
   "source": [
    "print(simple_nn(X_train,X_test,y_train,y_test))"
   ]
  },
  {
   "cell_type": "code",
   "execution_count": null,
   "metadata": {},
   "outputs": [],
   "source": []
  }
 ],
 "metadata": {
  "kernelspec": {
   "display_name": "Python 3",
   "language": "python",
   "name": "python3"
  },
  "language_info": {
   "codemirror_mode": {
    "name": "ipython",
    "version": 3
   },
   "file_extension": ".py",
   "mimetype": "text/x-python",
   "name": "python",
   "nbconvert_exporter": "python",
   "pygments_lexer": "ipython3",
   "version": "3.6.8"
  }
 },
 "nbformat": 4,
 "nbformat_minor": 2
}
