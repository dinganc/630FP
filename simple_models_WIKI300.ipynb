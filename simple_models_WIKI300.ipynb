{
 "cells": [
  {
   "cell_type": "code",
   "execution_count": 1,
   "metadata": {},
   "outputs": [
    {
     "name": "stderr",
     "output_type": "stream",
     "text": [
      "C:\\Users\\X\\AppData\\Local\\Continuum\\anaconda3\\envs\\mlgpu\\lib\\site-packages\\gensim\\utils.py:1197: UserWarning: detected Windows; aliasing chunkize to chunkize_serial\n",
      "  warnings.warn(\"detected Windows; aliasing chunkize to chunkize_serial\")\n",
      "Using TensorFlow backend.\n"
     ]
    }
   ],
   "source": [
    "import sqlite3\n",
    "import utils\n",
    "import pandas as pd\n",
    "from sklearn.model_selection import train_test_split\n",
    "from sklearn.linear_model import LogisticRegression\n",
    "from sklearn.metrics import f1_score\n",
    "from sklearn.neighbors import KNeighborsClassifier \n",
    "from sklearn.tree import DecisionTreeClassifier\n",
    "from sklearn.naive_bayes import GaussianNB\n",
    "from sklearn.dummy import DummyClassifier\n",
    "from sklearn import ensemble\n",
    "from scipy.sparse import coo_matrix\n",
    "from sklearn import svm\n",
    "\n",
    "import xgboost\n",
    "from keras.preprocessing import text, sequence\n",
    "from keras import layers, models, optimizers\n",
    "\n",
    "import numpy as np\n",
    "import torch"
   ]
  },
  {
   "cell_type": "code",
   "execution_count": 2,
   "metadata": {},
   "outputs": [],
   "source": [
    "import keras.backend as K"
   ]
  },
  {
   "cell_type": "code",
   "execution_count": 3,
   "metadata": {},
   "outputs": [],
   "source": [
    "def w2v_average_wiki():\n",
    "    conn=sqlite3.connect('songs.db')\n",
    "    cur=conn.cursor()\n",
    "    example_text=cur.execute(\"select Lyrics from song where Lyrics is not null\").fetchall()\n",
    "    labels=[i[0] for i in cur.execute(\"select Economic from song where Lyrics is not null\").fetchall()]\n",
    "    songs=[]\n",
    "    for i in example_text:\n",
    "        songs.append(utils.tokenize_word(utils.clean_text(i[0])))\n",
    "    songs=utils.w2v_average_wiki(songs,'glove-wiki-gigaword-300')\n",
    "    return np.array(songs),np.array(labels)"
   ]
  },
  {
   "cell_type": "code",
   "execution_count": 4,
   "metadata": {},
   "outputs": [],
   "source": [
    "def limit_mem():\n",
    "    K.get_session().close()\n",
    "    cfg = K.tf.ConfigProto()\n",
    "    cfg.gpu_options.allow_growth = True\n",
    "    K.set_session(K.tf.Session(config=cfg))"
   ]
  },
  {
   "cell_type": "code",
   "execution_count": 5,
   "metadata": {},
   "outputs": [],
   "source": [
    "X,y=w2v_average_wiki()"
   ]
  },
  {
   "cell_type": "code",
   "execution_count": 6,
   "metadata": {},
   "outputs": [],
   "source": [
    "X_train,X_test,y_train,y_test=train_test_split(X,y,test_size=0.5)"
   ]
  },
  {
   "cell_type": "code",
   "execution_count": 7,
   "metadata": {},
   "outputs": [],
   "source": [
    "def dummy(X_train,X_test,y_train,y_test):\n",
    "    dummy = DummyClassifier()\n",
    "    dummy.fit(X_train, y_train)\n",
    "    y_pred=dummy.predict(X_test)\n",
    "    return f1_score(y_test,y_pred)"
   ]
  },
  {
   "cell_type": "code",
   "execution_count": 27,
   "metadata": {},
   "outputs": [
    {
     "name": "stdout",
     "output_type": "stream",
     "text": [
      "0.4434753438443475\n"
     ]
    }
   ],
   "source": [
    "print(dummy(X_train,X_test,y_train,y_test))"
   ]
  },
  {
   "cell_type": "code",
   "execution_count": 9,
   "metadata": {},
   "outputs": [],
   "source": [
    "def logistics_sentiment():\n",
    "    conn=sqlite3.connect('SONGS.db')\n",
    "    data=pd.read_sql(\"select Economic,neg,pos,neu,comp from song\",conn).dropna()\n",
    "    X=data[['neg','pos','neu','comp']]\n",
    "    y=data.Economic\n",
    "    X_train,X_test,y_train,y_test=train_test_split(X,y,test_size=0.3)\n",
    "    logreg = LogisticRegression()\n",
    "    logreg.fit(X_train,y_train)\n",
    "    y_pred=logreg.predict(X_test)\n",
    "    return f1_score(y_test,y_pred)"
   ]
  },
  {
   "cell_type": "code",
   "execution_count": 10,
   "metadata": {},
   "outputs": [
    {
     "name": "stdout",
     "output_type": "stream",
     "text": [
      "0.0\n"
     ]
    },
    {
     "name": "stderr",
     "output_type": "stream",
     "text": [
      "C:\\Users\\X\\AppData\\Local\\Continuum\\anaconda3\\envs\\mlgpu\\lib\\site-packages\\sklearn\\linear_model\\logistic.py:433: FutureWarning: Default solver will be changed to 'lbfgs' in 0.22. Specify a solver to silence this warning.\n",
      "  FutureWarning)\n",
      "C:\\Users\\X\\AppData\\Local\\Continuum\\anaconda3\\envs\\mlgpu\\lib\\site-packages\\sklearn\\metrics\\classification.py:1143: UndefinedMetricWarning: F-score is ill-defined and being set to 0.0 due to no predicted samples.\n",
      "  'precision', 'predicted', average, warn_for)\n"
     ]
    }
   ],
   "source": [
    "print(logistics_sentiment())"
   ]
  },
  {
   "cell_type": "code",
   "execution_count": 11,
   "metadata": {},
   "outputs": [],
   "source": [
    "def logistics(X_train,X_test,y_train,y_test):\n",
    "    logreg = LogisticRegression()\n",
    "    logreg.fit(X_train,y_train)\n",
    "    y_pred=logreg.predict(X_test)\n",
    "    return f1_score(y_test,y_pred)"
   ]
  },
  {
   "cell_type": "code",
   "execution_count": 12,
   "metadata": {},
   "outputs": [
    {
     "name": "stderr",
     "output_type": "stream",
     "text": [
      "C:\\Users\\X\\AppData\\Local\\Continuum\\anaconda3\\envs\\mlgpu\\lib\\site-packages\\sklearn\\linear_model\\logistic.py:433: FutureWarning: Default solver will be changed to 'lbfgs' in 0.22. Specify a solver to silence this warning.\n",
      "  FutureWarning)\n"
     ]
    },
    {
     "name": "stdout",
     "output_type": "stream",
     "text": [
      "0.47854657904909165\n"
     ]
    }
   ],
   "source": [
    "print(logistics(X_train,X_test,y_train,y_test))"
   ]
  },
  {
   "cell_type": "code",
   "execution_count": 13,
   "metadata": {},
   "outputs": [],
   "source": [
    "def naive_bayes(X_train,X_test,y_train,y_test):\n",
    "    nb=GaussianNB()\n",
    "    nb.fit(X_train, y_train)\n",
    "    y_pred=nb.predict(X_test)\n",
    "    return f1_score(y_test,y_pred)"
   ]
  },
  {
   "cell_type": "code",
   "execution_count": 14,
   "metadata": {},
   "outputs": [
    {
     "name": "stdout",
     "output_type": "stream",
     "text": [
      "0.5689223057644109\n"
     ]
    }
   ],
   "source": [
    "print(naive_bayes(X_train,X_test,y_train,y_test))"
   ]
  },
  {
   "cell_type": "code",
   "execution_count": 15,
   "metadata": {},
   "outputs": [],
   "source": [
    "def support_vector(X_train,X_test,y_train,y_test):\n",
    "    model = svm.SVC()\n",
    "    model.fit(X_train, y_train)\n",
    "    y_pred = model.predict(X_test)\n",
    "    return f1_score(y_test, y_pred)"
   ]
  },
  {
   "cell_type": "code",
   "execution_count": 16,
   "metadata": {},
   "outputs": [
    {
     "name": "stderr",
     "output_type": "stream",
     "text": [
      "C:\\Users\\X\\AppData\\Local\\Continuum\\anaconda3\\envs\\mlgpu\\lib\\site-packages\\sklearn\\svm\\base.py:196: FutureWarning: The default value of gamma will change from 'auto' to 'scale' in version 0.22 to account better for unscaled features. Set gamma explicitly to 'auto' or 'scale' to avoid this warning.\n",
      "  \"avoid this warning.\", FutureWarning)\n"
     ]
    },
    {
     "name": "stdout",
     "output_type": "stream",
     "text": [
      "0.0\n"
     ]
    },
    {
     "name": "stderr",
     "output_type": "stream",
     "text": [
      "C:\\Users\\X\\AppData\\Local\\Continuum\\anaconda3\\envs\\mlgpu\\lib\\site-packages\\sklearn\\metrics\\classification.py:1143: UndefinedMetricWarning: F-score is ill-defined and being set to 0.0 due to no predicted samples.\n",
      "  'precision', 'predicted', average, warn_for)\n"
     ]
    }
   ],
   "source": [
    "print(support_vector(X_train,X_test,y_train,y_test))"
   ]
  },
  {
   "cell_type": "code",
   "execution_count": 17,
   "metadata": {},
   "outputs": [],
   "source": [
    "def knn(X_train,X_test,y_train,y_test):\n",
    "    model = KNeighborsClassifier(n_neighbors=5) \n",
    "    model.fit(X_train, y_train)\n",
    "    y_pred = model.predict(X_test)\n",
    "    return f1_score(y_test, y_pred)"
   ]
  },
  {
   "cell_type": "code",
   "execution_count": 18,
   "metadata": {},
   "outputs": [
    {
     "name": "stdout",
     "output_type": "stream",
     "text": [
      "0.5415061295971979\n"
     ]
    }
   ],
   "source": [
    "print(knn(X_train,X_test,y_train,y_test))"
   ]
  },
  {
   "cell_type": "code",
   "execution_count": 19,
   "metadata": {},
   "outputs": [],
   "source": [
    "def decision_tree(X_train,X_test,y_train,y_test):\n",
    "    model = DecisionTreeClassifier(random_state=0)\n",
    "    model.fit(X_train, y_train)\n",
    "    y_pred = model.predict(X_test)\n",
    "    return f1_score(y_test, y_pred)"
   ]
  },
  {
   "cell_type": "code",
   "execution_count": 20,
   "metadata": {},
   "outputs": [
    {
     "name": "stdout",
     "output_type": "stream",
     "text": [
      "0.566219470244238\n"
     ]
    }
   ],
   "source": [
    "print(decision_tree(X_train,X_test,y_train,y_test))"
   ]
  },
  {
   "cell_type": "code",
   "execution_count": 21,
   "metadata": {},
   "outputs": [],
   "source": [
    "def random_forest(X_train,X_test,y_train,y_test):\n",
    "    model=ensemble.RandomForestClassifier()\n",
    "    model.fit(X_train, y_train)\n",
    "    y_pred = model.predict(X_test)\n",
    "    return f1_score(y_test, y_pred)"
   ]
  },
  {
   "cell_type": "code",
   "execution_count": 22,
   "metadata": {},
   "outputs": [
    {
     "name": "stderr",
     "output_type": "stream",
     "text": [
      "C:\\Users\\X\\AppData\\Local\\Continuum\\anaconda3\\envs\\mlgpu\\lib\\site-packages\\sklearn\\ensemble\\forest.py:246: FutureWarning: The default value of n_estimators will change from 10 in version 0.20 to 100 in 0.22.\n",
      "  \"10 in version 0.20 to 100 in 0.22.\", FutureWarning)\n"
     ]
    },
    {
     "name": "stdout",
     "output_type": "stream",
     "text": [
      "0.5162569389373513\n"
     ]
    }
   ],
   "source": [
    "print(random_forest(X_train,X_test,y_train,y_test))"
   ]
  },
  {
   "cell_type": "code",
   "execution_count": 23,
   "metadata": {},
   "outputs": [],
   "source": [
    "def xgb(X_train,X_test,y_train,y_test):\n",
    "    X_train=coo_matrix(X_train).tocsc()\n",
    "    X_test=coo_matrix(X_test).tocsc()\n",
    "    model=xgboost.XGBClassifier()\n",
    "    model.fit(X_train, y_train)\n",
    "    y_pred = model.predict(X_test)\n",
    "    return f1_score(y_test, y_pred)"
   ]
  },
  {
   "cell_type": "code",
   "execution_count": 24,
   "metadata": {},
   "outputs": [
    {
     "name": "stdout",
     "output_type": "stream",
     "text": [
      "0.5545657015590201\n"
     ]
    }
   ],
   "source": [
    "print(xgb(X_train,X_test,y_train,y_test))"
   ]
  },
  {
   "cell_type": "code",
   "execution_count": 25,
   "metadata": {},
   "outputs": [],
   "source": [
    "def simple_nn(X_train,X_test,y_train,y_test):\n",
    "\n",
    "    def create_model_architecture(input_size):\n",
    "        input_layer = layers.Input(shape=(input_size,),)\n",
    "        hidden_layer = layers.Dense(200, activation=\"relu\")(input_layer)\n",
    "        output_layer = layers.Dense(1, activation=\"sigmoid\")(hidden_layer)\n",
    "        classifier = models.Model(inputs = input_layer, outputs = output_layer)\n",
    "        classifier.compile(optimizer=optimizers.Adam(), loss='binary_crossentropy')\n",
    "        return classifier\n",
    "\n",
    "    model=create_model_architecture(len(X_train[0]))\n",
    "    model.fit(X_train, y_train,epochs=100)\n",
    "    y_pred = [int(round(i[0])) for i in model.predict(X_test)]\n",
    "    limit_mem()\n",
    "    return f1_score(y_test, y_pred)"
   ]
  },
  {
   "cell_type": "code",
   "execution_count": 26,
   "metadata": {},
   "outputs": [
    {
     "name": "stdout",
     "output_type": "stream",
     "text": [
      "WARNING:tensorflow:From C:\\Users\\X\\AppData\\Local\\Continuum\\anaconda3\\envs\\mlgpu\\lib\\site-packages\\tensorflow\\python\\framework\\op_def_library.py:263: colocate_with (from tensorflow.python.framework.ops) is deprecated and will be removed in a future version.\n",
      "Instructions for updating:\n",
      "Colocations handled automatically by placer.\n",
      "WARNING:tensorflow:From C:\\Users\\X\\AppData\\Local\\Continuum\\anaconda3\\envs\\mlgpu\\lib\\site-packages\\tensorflow\\python\\ops\\math_ops.py:3066: to_int32 (from tensorflow.python.ops.math_ops) is deprecated and will be removed in a future version.\n",
      "Instructions for updating:\n",
      "Use tf.cast instead.\n",
      "Epoch 1/100\n",
      "3327/3327 [==============================] - 3s 957us/step - loss: 0.6837\n",
      "Epoch 2/100\n",
      "3327/3327 [==============================] - 0s 75us/step - loss: 0.6660\n",
      "Epoch 3/100\n",
      "3327/3327 [==============================] - 0s 70us/step - loss: 0.6546\n",
      "Epoch 4/100\n",
      "3327/3327 [==============================] - 0s 71us/step - loss: 0.6426\n",
      "Epoch 5/100\n",
      "3327/3327 [==============================] - 0s 75us/step - loss: 0.6262\n",
      "Epoch 6/100\n",
      "3327/3327 [==============================] - 0s 70us/step - loss: 0.6123\n",
      "Epoch 7/100\n",
      "3327/3327 [==============================] - 0s 70us/step - loss: 0.5980\n",
      "Epoch 8/100\n",
      "3327/3327 [==============================] - 0s 71us/step - loss: 0.5788\n",
      "Epoch 9/100\n",
      "3327/3327 [==============================] - 0s 70us/step - loss: 0.5629\n",
      "Epoch 10/100\n",
      "3327/3327 [==============================] - 0s 70us/step - loss: 0.5450\n",
      "Epoch 11/100\n",
      "3327/3327 [==============================] - 0s 66us/step - loss: 0.5308\n",
      "Epoch 12/100\n",
      "3327/3327 [==============================] - 0s 66us/step - loss: 0.5126\n",
      "Epoch 13/100\n",
      "3327/3327 [==============================] - 0s 70us/step - loss: 0.4916\n",
      "Epoch 14/100\n",
      "3327/3327 [==============================] - 0s 70us/step - loss: 0.4766\n",
      "Epoch 15/100\n",
      "3327/3327 [==============================] - 0s 66us/step - loss: 0.4660\n",
      "Epoch 16/100\n",
      "3327/3327 [==============================] - 0s 70us/step - loss: 0.4425\n",
      "Epoch 17/100\n",
      "3327/3327 [==============================] - 0s 71us/step - loss: 0.4281\n",
      "Epoch 18/100\n",
      "3327/3327 [==============================] - 0s 69us/step - loss: 0.4135\n",
      "Epoch 19/100\n",
      "3327/3327 [==============================] - 0s 70us/step - loss: 0.4036\n",
      "Epoch 20/100\n",
      "3327/3327 [==============================] - 0s 66us/step - loss: 0.3859\n",
      "Epoch 21/100\n",
      "3327/3327 [==============================] - 0s 69us/step - loss: 0.3713\n",
      "Epoch 22/100\n",
      "3327/3327 [==============================] - 0s 70us/step - loss: 0.3594\n",
      "Epoch 23/100\n",
      "3327/3327 [==============================] - 0s 75us/step - loss: 0.3430\n",
      "Epoch 24/100\n",
      "3327/3327 [==============================] - 0s 75us/step - loss: 0.3276\n",
      "Epoch 25/100\n",
      "3327/3327 [==============================] - 0s 82us/step - loss: 0.3125\n",
      "Epoch 26/100\n",
      "3327/3327 [==============================] - 0s 75us/step - loss: 0.3072\n",
      "Epoch 27/100\n",
      "3327/3327 [==============================] - 0s 70us/step - loss: 0.2877\n",
      "Epoch 28/100\n",
      "3327/3327 [==============================] - 0s 70us/step - loss: 0.2794\n",
      "Epoch 29/100\n",
      "3327/3327 [==============================] - 0s 66us/step - loss: 0.2728\n",
      "Epoch 30/100\n",
      "3327/3327 [==============================] - 0s 66us/step - loss: 0.2715\n",
      "Epoch 31/100\n",
      "3327/3327 [==============================] - 0s 70us/step - loss: 0.2557\n",
      "Epoch 32/100\n",
      "3327/3327 [==============================] - 0s 70us/step - loss: 0.2429\n",
      "Epoch 33/100\n",
      "3327/3327 [==============================] - 0s 66us/step - loss: 0.2346\n",
      "Epoch 34/100\n",
      "3327/3327 [==============================] - 0s 71us/step - loss: 0.2199\n",
      "Epoch 35/100\n",
      "3327/3327 [==============================] - 0s 66us/step - loss: 0.2155\n",
      "Epoch 36/100\n",
      "3327/3327 [==============================] - 0s 70us/step - loss: 0.2139\n",
      "Epoch 37/100\n",
      "3327/3327 [==============================] - 0s 70us/step - loss: 0.1988\n",
      "Epoch 38/100\n",
      "3327/3327 [==============================] - 0s 70us/step - loss: 0.1922\n",
      "Epoch 39/100\n",
      "3327/3327 [==============================] - 0s 70us/step - loss: 0.1913\n",
      "Epoch 40/100\n",
      "3327/3327 [==============================] - 0s 69us/step - loss: 0.1790\n",
      "Epoch 41/100\n",
      "3327/3327 [==============================] - 0s 66us/step - loss: 0.1801\n",
      "Epoch 42/100\n",
      "3327/3327 [==============================] - 0s 72us/step - loss: 0.1724\n",
      "Epoch 43/100\n",
      "3327/3327 [==============================] - 0s 70us/step - loss: 0.1600\n",
      "Epoch 44/100\n",
      "3327/3327 [==============================] - 0s 80us/step - loss: 0.1579\n",
      "Epoch 45/100\n",
      "3327/3327 [==============================] - 0s 80us/step - loss: 0.1490\n",
      "Epoch 46/100\n",
      "3327/3327 [==============================] - 0s 73us/step - loss: 0.1529\n",
      "Epoch 47/100\n",
      "3327/3327 [==============================] - 0s 80us/step - loss: 0.1338\n",
      "Epoch 48/100\n",
      "3327/3327 [==============================] - 0s 70us/step - loss: 0.1361\n",
      "Epoch 49/100\n",
      "3327/3327 [==============================] - 0s 75us/step - loss: 0.1291\n",
      "Epoch 50/100\n",
      "3327/3327 [==============================] - 0s 75us/step - loss: 0.1202\n",
      "Epoch 51/100\n",
      "3327/3327 [==============================] - 0s 75us/step - loss: 0.1211\n",
      "Epoch 52/100\n",
      "3327/3327 [==============================] - 0s 70us/step - loss: 0.1149\n",
      "Epoch 53/100\n",
      "3327/3327 [==============================] - 0s 70us/step - loss: 0.1141\n",
      "Epoch 54/100\n",
      "3327/3327 [==============================] - 0s 71us/step - loss: 0.1056\n",
      "Epoch 55/100\n",
      "3327/3327 [==============================] - 0s 80us/step - loss: 0.1037\n",
      "Epoch 56/100\n",
      "3327/3327 [==============================] - 0s 70us/step - loss: 0.1051\n",
      "Epoch 57/100\n",
      "3327/3327 [==============================] - 0s 75us/step - loss: 0.0967\n",
      "Epoch 58/100\n",
      "3327/3327 [==============================] - 0s 71us/step - loss: 0.0965\n",
      "Epoch 59/100\n",
      "3327/3327 [==============================] - 0s 70us/step - loss: 0.0990\n",
      "Epoch 60/100\n",
      "3327/3327 [==============================] - 0s 70us/step - loss: 0.0979\n",
      "Epoch 61/100\n",
      "3327/3327 [==============================] - 0s 70us/step - loss: 0.0905\n",
      "Epoch 62/100\n",
      "3327/3327 [==============================] - 0s 70us/step - loss: 0.0868\n",
      "Epoch 63/100\n",
      "3327/3327 [==============================] - 0s 72us/step - loss: 0.0840\n",
      "Epoch 64/100\n",
      "3327/3327 [==============================] - 0s 66us/step - loss: 0.0868\n",
      "Epoch 65/100\n",
      "3327/3327 [==============================] - 0s 75us/step - loss: 0.0800\n",
      "Epoch 66/100\n",
      "3327/3327 [==============================] - 0s 75us/step - loss: 0.0829\n",
      "Epoch 67/100\n",
      "3327/3327 [==============================] - 0s 66us/step - loss: 0.0808\n",
      "Epoch 68/100\n",
      "3327/3327 [==============================] - 0s 75us/step - loss: 0.0772\n",
      "Epoch 69/100\n",
      "3327/3327 [==============================] - 0s 75us/step - loss: 0.0737\n",
      "Epoch 70/100\n",
      "3327/3327 [==============================] - 0s 70us/step - loss: 0.0704\n",
      "Epoch 71/100\n",
      "3327/3327 [==============================] - 0s 71us/step - loss: 0.0700\n",
      "Epoch 72/100\n",
      "3327/3327 [==============================] - 0s 75us/step - loss: 0.0815\n",
      "Epoch 73/100\n",
      "3327/3327 [==============================] - 0s 70us/step - loss: 0.0683\n",
      "Epoch 74/100\n",
      "3327/3327 [==============================] - 0s 70us/step - loss: 0.0635\n",
      "Epoch 75/100\n",
      "3327/3327 [==============================] - 0s 70us/step - loss: 0.0680\n",
      "Epoch 76/100\n",
      "3327/3327 [==============================] - 0s 70us/step - loss: 0.0632\n",
      "Epoch 77/100\n",
      "3327/3327 [==============================] - 0s 70us/step - loss: 0.0608\n",
      "Epoch 78/100\n",
      "3327/3327 [==============================] - 0s 66us/step - loss: 0.0586\n",
      "Epoch 79/100\n",
      "3327/3327 [==============================] - 0s 76us/step - loss: 0.0670\n",
      "Epoch 80/100\n",
      "3327/3327 [==============================] - 0s 70us/step - loss: 0.0577\n",
      "Epoch 81/100\n",
      "3327/3327 [==============================] - 0s 68us/step - loss: 0.0594\n",
      "Epoch 82/100\n",
      "3327/3327 [==============================] - 0s 70us/step - loss: 0.0574\n",
      "Epoch 83/100\n",
      "3327/3327 [==============================] - 0s 70us/step - loss: 0.0602\n",
      "Epoch 84/100\n",
      "3327/3327 [==============================] - 0s 69us/step - loss: 0.0625\n",
      "Epoch 85/100\n",
      "3327/3327 [==============================] - 0s 70us/step - loss: 0.0532\n",
      "Epoch 86/100\n",
      "3327/3327 [==============================] - 0s 85us/step - loss: 0.0572\n",
      "Epoch 87/100\n",
      "3327/3327 [==============================] - 0s 75us/step - loss: 0.0547\n",
      "Epoch 88/100\n",
      "3327/3327 [==============================] - 0s 67us/step - loss: 0.0513\n",
      "Epoch 89/100\n"
     ]
    },
    {
     "name": "stdout",
     "output_type": "stream",
     "text": [
      "3327/3327 [==============================] - 0s 80us/step - loss: 0.0595\n",
      "Epoch 90/100\n",
      "3327/3327 [==============================] - 0s 70us/step - loss: 0.0517\n",
      "Epoch 91/100\n",
      "3327/3327 [==============================] - 0s 70us/step - loss: 0.0525\n",
      "Epoch 92/100\n",
      "3327/3327 [==============================] - 0s 70us/step - loss: 0.0517\n",
      "Epoch 93/100\n",
      "3327/3327 [==============================] - 0s 80us/step - loss: 0.0551\n",
      "Epoch 94/100\n",
      "3327/3327 [==============================] - 0s 70us/step - loss: 0.0506\n",
      "Epoch 95/100\n",
      "3327/3327 [==============================] - 0s 66us/step - loss: 0.0500\n",
      "Epoch 96/100\n",
      "3327/3327 [==============================] - 0s 71us/step - loss: 0.0486\n",
      "Epoch 97/100\n",
      "3327/3327 [==============================] - 0s 66us/step - loss: 0.0532\n",
      "Epoch 98/100\n",
      "3327/3327 [==============================] - 0s 70us/step - loss: 0.0579\n",
      "Epoch 99/100\n",
      "3327/3327 [==============================] - 0s 75us/step - loss: 0.0747\n",
      "Epoch 100/100\n",
      "3327/3327 [==============================] - 0s 75us/step - loss: 0.0779\n",
      "0.6234765875561257\n"
     ]
    }
   ],
   "source": [
    "print(simple_nn(X_train,X_test,y_train,y_test))"
   ]
  },
  {
   "cell_type": "code",
   "execution_count": null,
   "metadata": {},
   "outputs": [],
   "source": []
  }
 ],
 "metadata": {
  "kernelspec": {
   "display_name": "Python 3",
   "language": "python",
   "name": "python3"
  },
  "language_info": {
   "codemirror_mode": {
    "name": "ipython",
    "version": 3
   },
   "file_extension": ".py",
   "mimetype": "text/x-python",
   "name": "python",
   "nbconvert_exporter": "python",
   "pygments_lexer": "ipython3",
   "version": "3.6.8"
  }
 },
 "nbformat": 4,
 "nbformat_minor": 2
}
