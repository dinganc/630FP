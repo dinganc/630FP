{
 "cells": [
  {
   "cell_type": "code",
   "execution_count": 1,
   "metadata": {},
   "outputs": [
    {
     "name": "stderr",
     "output_type": "stream",
     "text": [
      "C:\\Users\\X\\AppData\\Local\\Continuum\\anaconda3\\envs\\mlgpu\\lib\\site-packages\\gensim\\utils.py:1197: UserWarning: detected Windows; aliasing chunkize to chunkize_serial\n",
      "  warnings.warn(\"detected Windows; aliasing chunkize to chunkize_serial\")\n",
      "Using TensorFlow backend.\n"
     ]
    }
   ],
   "source": [
    "import sqlite3\n",
    "import utils\n",
    "import pandas as pd\n",
    "from sklearn.model_selection import train_test_split\n",
    "from sklearn.linear_model import LogisticRegression\n",
    "from sklearn.metrics import f1_score\n",
    "from sklearn.neighbors import KNeighborsClassifier \n",
    "from sklearn.tree import DecisionTreeClassifier\n",
    "from sklearn.naive_bayes import GaussianNB\n",
    "from sklearn.dummy import DummyClassifier\n",
    "from sklearn import ensemble\n",
    "from scipy.sparse import coo_matrix\n",
    "from sklearn import svm\n",
    "\n",
    "import xgboost\n",
    "from keras.preprocessing import text, sequence\n",
    "from keras import layers, models, optimizers\n",
    "\n",
    "import numpy as np\n",
    "import torch"
   ]
  },
  {
   "cell_type": "code",
   "execution_count": 2,
   "metadata": {},
   "outputs": [],
   "source": [
    "import keras.backend as K"
   ]
  },
  {
   "cell_type": "code",
   "execution_count": 3,
   "metadata": {},
   "outputs": [],
   "source": [
    "def w2v_average_wiki():\n",
    "    conn=sqlite3.connect('songs.db')\n",
    "    cur=conn.cursor()\n",
    "    example_text=cur.execute(\"select Lyrics from song where Lyrics is not null\").fetchall()\n",
    "    labels=[i[0] for i in cur.execute(\"select Economic from song where Lyrics is not null\").fetchall()]\n",
    "    songs=[]\n",
    "    for i in example_text:\n",
    "        songs.append(utils.tokenize_word(utils.clean_text(i[0])))\n",
    "    songs=utils.w2v_average_wiki(songs,'fasttext-wiki-news-subwords-300')\n",
    "    return np.array(songs),np.array(labels)"
   ]
  },
  {
   "cell_type": "code",
   "execution_count": 4,
   "metadata": {},
   "outputs": [],
   "source": [
    "def limit_mem():\n",
    "    K.get_session().close()\n",
    "    cfg = K.tf.ConfigProto()\n",
    "    cfg.gpu_options.allow_growth = True\n",
    "    K.set_session(K.tf.Session(config=cfg))"
   ]
  },
  {
   "cell_type": "code",
   "execution_count": 5,
   "metadata": {},
   "outputs": [],
   "source": [
    "X,y=w2v_average_wiki()"
   ]
  },
  {
   "cell_type": "code",
   "execution_count": 6,
   "metadata": {},
   "outputs": [],
   "source": [
    "X_train,X_test,y_train,y_test=train_test_split(X,y,test_size=0.5)"
   ]
  },
  {
   "cell_type": "code",
   "execution_count": 7,
   "metadata": {},
   "outputs": [],
   "source": [
    "def dummy(X_train,X_test,y_train,y_test):\n",
    "    dummy = DummyClassifier()\n",
    "    dummy.fit(X_train, y_train)\n",
    "    y_pred=dummy.predict(X_test)\n",
    "    return f1_score(y_test,y_pred)"
   ]
  },
  {
   "cell_type": "code",
   "execution_count": 8,
   "metadata": {},
   "outputs": [
    {
     "name": "stdout",
     "output_type": "stream",
     "text": [
      "0.45745038681466527\n"
     ]
    }
   ],
   "source": [
    "print(dummy(X_train,X_test,y_train,y_test))"
   ]
  },
  {
   "cell_type": "code",
   "execution_count": 9,
   "metadata": {},
   "outputs": [],
   "source": [
    "def logistics_sentiment():\n",
    "    conn=sqlite3.connect('SONGS.db')\n",
    "    data=pd.read_sql(\"select Economic,neg,pos,neu,comp from song\",conn).dropna()\n",
    "    X=data[['neg','pos','neu','comp']]\n",
    "    y=data.Economic\n",
    "    X_train,X_test,y_train,y_test=train_test_split(X,y,test_size=0.3)\n",
    "    logreg = LogisticRegression()\n",
    "    logreg.fit(X_train,y_train)\n",
    "    y_pred=logreg.predict(X_test)\n",
    "    return f1_score(y_test,y_pred)"
   ]
  },
  {
   "cell_type": "code",
   "execution_count": 10,
   "metadata": {},
   "outputs": [
    {
     "name": "stdout",
     "output_type": "stream",
     "text": [
      "0.0\n"
     ]
    },
    {
     "name": "stderr",
     "output_type": "stream",
     "text": [
      "C:\\Users\\X\\AppData\\Local\\Continuum\\anaconda3\\envs\\mlgpu\\lib\\site-packages\\sklearn\\linear_model\\logistic.py:433: FutureWarning: Default solver will be changed to 'lbfgs' in 0.22. Specify a solver to silence this warning.\n",
      "  FutureWarning)\n",
      "C:\\Users\\X\\AppData\\Local\\Continuum\\anaconda3\\envs\\mlgpu\\lib\\site-packages\\sklearn\\metrics\\classification.py:1143: UndefinedMetricWarning: F-score is ill-defined and being set to 0.0 due to no predicted samples.\n",
      "  'precision', 'predicted', average, warn_for)\n"
     ]
    }
   ],
   "source": [
    "print(logistics_sentiment())"
   ]
  },
  {
   "cell_type": "code",
   "execution_count": 11,
   "metadata": {},
   "outputs": [],
   "source": [
    "def logistics(X_train,X_test,y_train,y_test):\n",
    "    logreg = LogisticRegression()\n",
    "    logreg.fit(X_train,y_train)\n",
    "    y_pred=logreg.predict(X_test)\n",
    "    return f1_score(y_test,y_pred)"
   ]
  },
  {
   "cell_type": "code",
   "execution_count": 12,
   "metadata": {},
   "outputs": [
    {
     "name": "stdout",
     "output_type": "stream",
     "text": [
      "0.1158690176322418\n"
     ]
    },
    {
     "name": "stderr",
     "output_type": "stream",
     "text": [
      "C:\\Users\\X\\AppData\\Local\\Continuum\\anaconda3\\envs\\mlgpu\\lib\\site-packages\\sklearn\\linear_model\\logistic.py:433: FutureWarning: Default solver will be changed to 'lbfgs' in 0.22. Specify a solver to silence this warning.\n",
      "  FutureWarning)\n"
     ]
    }
   ],
   "source": [
    "print(logistics(X_train,X_test,y_train,y_test))"
   ]
  },
  {
   "cell_type": "code",
   "execution_count": 13,
   "metadata": {},
   "outputs": [],
   "source": [
    "def naive_bayes(X_train,X_test,y_train,y_test):\n",
    "    nb=GaussianNB()\n",
    "    nb.fit(X_train, y_train)\n",
    "    y_pred=nb.predict(X_test)\n",
    "    return f1_score(y_test,y_pred)"
   ]
  },
  {
   "cell_type": "code",
   "execution_count": 14,
   "metadata": {},
   "outputs": [
    {
     "name": "stdout",
     "output_type": "stream",
     "text": [
      "0.5700334104343358\n"
     ]
    }
   ],
   "source": [
    "print(naive_bayes(X_train,X_test,y_train,y_test))"
   ]
  },
  {
   "cell_type": "code",
   "execution_count": 15,
   "metadata": {},
   "outputs": [],
   "source": [
    "def support_vector(X_train,X_test,y_train,y_test):\n",
    "    model = svm.SVC()\n",
    "    model.fit(X_train, y_train)\n",
    "    y_pred = model.predict(X_test)\n",
    "    return f1_score(y_test, y_pred)"
   ]
  },
  {
   "cell_type": "code",
   "execution_count": 16,
   "metadata": {},
   "outputs": [
    {
     "name": "stderr",
     "output_type": "stream",
     "text": [
      "C:\\Users\\X\\AppData\\Local\\Continuum\\anaconda3\\envs\\mlgpu\\lib\\site-packages\\sklearn\\svm\\base.py:196: FutureWarning: The default value of gamma will change from 'auto' to 'scale' in version 0.22 to account better for unscaled features. Set gamma explicitly to 'auto' or 'scale' to avoid this warning.\n",
      "  \"avoid this warning.\", FutureWarning)\n"
     ]
    },
    {
     "name": "stdout",
     "output_type": "stream",
     "text": [
      "0.0\n"
     ]
    },
    {
     "name": "stderr",
     "output_type": "stream",
     "text": [
      "C:\\Users\\X\\AppData\\Local\\Continuum\\anaconda3\\envs\\mlgpu\\lib\\site-packages\\sklearn\\metrics\\classification.py:1143: UndefinedMetricWarning: F-score is ill-defined and being set to 0.0 due to no predicted samples.\n",
      "  'precision', 'predicted', average, warn_for)\n"
     ]
    }
   ],
   "source": [
    "print(support_vector(X_train,X_test,y_train,y_test))"
   ]
  },
  {
   "cell_type": "code",
   "execution_count": 17,
   "metadata": {},
   "outputs": [],
   "source": [
    "def knn(X_train,X_test,y_train,y_test):\n",
    "    model = KNeighborsClassifier(n_neighbors=5) \n",
    "    model.fit(X_train, y_train)\n",
    "    y_pred = model.predict(X_test)\n",
    "    return f1_score(y_test, y_pred)"
   ]
  },
  {
   "cell_type": "code",
   "execution_count": 18,
   "metadata": {},
   "outputs": [
    {
     "name": "stdout",
     "output_type": "stream",
     "text": [
      "0.5265470523617722\n"
     ]
    }
   ],
   "source": [
    "print(knn(X_train,X_test,y_train,y_test))"
   ]
  },
  {
   "cell_type": "code",
   "execution_count": 19,
   "metadata": {},
   "outputs": [],
   "source": [
    "def decision_tree(X_train,X_test,y_train,y_test):\n",
    "    model = DecisionTreeClassifier(random_state=0)\n",
    "    model.fit(X_train, y_train)\n",
    "    y_pred = model.predict(X_test)\n",
    "    return f1_score(y_test, y_pred)"
   ]
  },
  {
   "cell_type": "code",
   "execution_count": 20,
   "metadata": {},
   "outputs": [
    {
     "name": "stdout",
     "output_type": "stream",
     "text": [
      "0.5746498120942944\n"
     ]
    }
   ],
   "source": [
    "print(decision_tree(X_train,X_test,y_train,y_test))"
   ]
  },
  {
   "cell_type": "code",
   "execution_count": 21,
   "metadata": {},
   "outputs": [],
   "source": [
    "def random_forest(X_train,X_test,y_train,y_test):\n",
    "    model=ensemble.RandomForestClassifier()\n",
    "    model.fit(X_train, y_train)\n",
    "    y_pred = model.predict(X_test)\n",
    "    return f1_score(y_test, y_pred)"
   ]
  },
  {
   "cell_type": "code",
   "execution_count": 22,
   "metadata": {
    "scrolled": true
   },
   "outputs": [
    {
     "name": "stderr",
     "output_type": "stream",
     "text": [
      "C:\\Users\\X\\AppData\\Local\\Continuum\\anaconda3\\envs\\mlgpu\\lib\\site-packages\\sklearn\\ensemble\\forest.py:246: FutureWarning: The default value of n_estimators will change from 10 in version 0.20 to 100 in 0.22.\n",
      "  \"10 in version 0.20 to 100 in 0.22.\", FutureWarning)\n"
     ]
    },
    {
     "name": "stdout",
     "output_type": "stream",
     "text": [
      "0.5415528677331253\n"
     ]
    }
   ],
   "source": [
    "print(random_forest(X_train,X_test,y_train,y_test))"
   ]
  },
  {
   "cell_type": "code",
   "execution_count": 23,
   "metadata": {},
   "outputs": [],
   "source": [
    "def xgb(X_train,X_test,y_train,y_test):\n",
    "    X_train=coo_matrix(X_train).tocsc()\n",
    "    X_test=coo_matrix(X_test).tocsc()\n",
    "    model=xgboost.XGBClassifier()\n",
    "    model.fit(X_train, y_train)\n",
    "    y_pred = model.predict(X_test)\n",
    "    return f1_score(y_test, y_pred)"
   ]
  },
  {
   "cell_type": "code",
   "execution_count": 24,
   "metadata": {},
   "outputs": [
    {
     "name": "stdout",
     "output_type": "stream",
     "text": [
      "0.5431809300508013\n"
     ]
    }
   ],
   "source": [
    "print(xgb(X_train,X_test,y_train,y_test))"
   ]
  },
  {
   "cell_type": "code",
   "execution_count": 25,
   "metadata": {},
   "outputs": [],
   "source": [
    "def simple_nn(X_train,X_test,y_train,y_test):\n",
    "\n",
    "    def create_model_architecture(input_size):\n",
    "        input_layer = layers.Input(shape=(input_size,),)\n",
    "        hidden_layer = layers.Dense(200, activation=\"relu\")(input_layer)\n",
    "        output_layer = layers.Dense(1, activation=\"sigmoid\")(hidden_layer)\n",
    "        classifier = models.Model(inputs = input_layer, outputs = output_layer)\n",
    "        classifier.compile(optimizer=optimizers.Adam(), loss='binary_crossentropy')\n",
    "        return classifier\n",
    "\n",
    "    model=create_model_architecture(len(X_train[0]))\n",
    "    model.fit(X_train, y_train,epochs=100)\n",
    "    y_pred = [int(round(i[0])) for i in model.predict(X_test)]\n",
    "    limit_mem()\n",
    "    return f1_score(y_test, y_pred)"
   ]
  },
  {
   "cell_type": "code",
   "execution_count": 26,
   "metadata": {},
   "outputs": [
    {
     "name": "stdout",
     "output_type": "stream",
     "text": [
      "WARNING:tensorflow:From C:\\Users\\X\\AppData\\Local\\Continuum\\anaconda3\\envs\\mlgpu\\lib\\site-packages\\tensorflow\\python\\framework\\op_def_library.py:263: colocate_with (from tensorflow.python.framework.ops) is deprecated and will be removed in a future version.\n",
      "Instructions for updating:\n",
      "Colocations handled automatically by placer.\n",
      "WARNING:tensorflow:From C:\\Users\\X\\AppData\\Local\\Continuum\\anaconda3\\envs\\mlgpu\\lib\\site-packages\\tensorflow\\python\\ops\\math_ops.py:3066: to_int32 (from tensorflow.python.ops.math_ops) is deprecated and will be removed in a future version.\n",
      "Instructions for updating:\n",
      "Use tf.cast instead.\n",
      "Epoch 1/100\n",
      "3327/3327 [==============================] - 3s 955us/step - loss: 0.6867\n",
      "Epoch 2/100\n",
      "3327/3327 [==============================] - 0s 70us/step - loss: 0.6819\n",
      "Epoch 3/100\n",
      "3327/3327 [==============================] - 0s 67us/step - loss: 0.6776\n",
      "Epoch 4/100\n",
      "3327/3327 [==============================] - 0s 70us/step - loss: 0.6725\n",
      "Epoch 5/100\n",
      "3327/3327 [==============================] - 0s 63us/step - loss: 0.6683\n",
      "Epoch 6/100\n",
      "3327/3327 [==============================] - 0s 66us/step - loss: 0.6657\n",
      "Epoch 7/100\n",
      "3327/3327 [==============================] - 0s 66us/step - loss: 0.6589\n",
      "Epoch 8/100\n",
      "3327/3327 [==============================] - 0s 66us/step - loss: 0.6547\n",
      "Epoch 9/100\n",
      "3327/3327 [==============================] - 0s 66us/step - loss: 0.6551\n",
      "Epoch 10/100\n",
      "3327/3327 [==============================] - 0s 64us/step - loss: 0.6463\n",
      "Epoch 11/100\n",
      "3327/3327 [==============================] - 0s 66us/step - loss: 0.6450\n",
      "Epoch 12/100\n",
      "3327/3327 [==============================] - 0s 70us/step - loss: 0.6422\n",
      "Epoch 13/100\n",
      "3327/3327 [==============================] - 0s 66us/step - loss: 0.6382\n",
      "Epoch 14/100\n",
      "3327/3327 [==============================] - 0s 66us/step - loss: 0.6357\n",
      "Epoch 15/100\n",
      "3327/3327 [==============================] - 0s 70us/step - loss: 0.6323\n",
      "Epoch 16/100\n",
      "3327/3327 [==============================] - 0s 66us/step - loss: 0.6276\n",
      "Epoch 17/100\n",
      "3327/3327 [==============================] - 0s 66us/step - loss: 0.6269\n",
      "Epoch 18/100\n",
      "3327/3327 [==============================] - 0s 66us/step - loss: 0.6237\n",
      "Epoch 19/100\n",
      "3327/3327 [==============================] - 0s 71us/step - loss: 0.6218\n",
      "Epoch 20/100\n",
      "3327/3327 [==============================] - 0s 66us/step - loss: 0.6156\n",
      "Epoch 21/100\n",
      "3327/3327 [==============================] - 0s 70us/step - loss: 0.6122\n",
      "Epoch 22/100\n",
      "3327/3327 [==============================] - 0s 66us/step - loss: 0.6149\n",
      "Epoch 23/100\n",
      "3327/3327 [==============================] - 0s 66us/step - loss: 0.6061\n",
      "Epoch 24/100\n",
      "3327/3327 [==============================] - 0s 66us/step - loss: 0.6029\n",
      "Epoch 25/100\n",
      "3327/3327 [==============================] - 0s 70us/step - loss: 0.5992\n",
      "Epoch 26/100\n",
      "3327/3327 [==============================] - 0s 66us/step - loss: 0.5957\n",
      "Epoch 27/100\n",
      "3327/3327 [==============================] - 0s 66us/step - loss: 0.5922\n",
      "Epoch 28/100\n",
      "3327/3327 [==============================] - 0s 67us/step - loss: 0.5953\n",
      "Epoch 29/100\n",
      "3327/3327 [==============================] - 0s 70us/step - loss: 0.5880\n",
      "Epoch 30/100\n",
      "3327/3327 [==============================] - 0s 66us/step - loss: 0.5798\n",
      "Epoch 31/100\n",
      "3327/3327 [==============================] - 0s 66us/step - loss: 0.5808\n",
      "Epoch 32/100\n",
      "3327/3327 [==============================] - 0s 67us/step - loss: 0.5746\n",
      "Epoch 33/100\n",
      "3327/3327 [==============================] - 0s 66us/step - loss: 0.5694\n",
      "Epoch 34/100\n",
      "3327/3327 [==============================] - 0s 70us/step - loss: 0.5693\n",
      "Epoch 35/100\n",
      "3327/3327 [==============================] - 0s 66us/step - loss: 0.5622\n",
      "Epoch 36/100\n",
      "3327/3327 [==============================] - 0s 66us/step - loss: 0.5598\n",
      "Epoch 37/100\n",
      "3327/3327 [==============================] - 0s 66us/step - loss: 0.5573\n",
      "Epoch 38/100\n",
      "3327/3327 [==============================] - 0s 70us/step - loss: 0.5511\n",
      "Epoch 39/100\n",
      "3327/3327 [==============================] - 0s 66us/step - loss: 0.5495\n",
      "Epoch 40/100\n",
      "3327/3327 [==============================] - 0s 66us/step - loss: 0.5420\n",
      "Epoch 41/100\n",
      "3327/3327 [==============================] - 0s 66us/step - loss: 0.5400\n",
      "Epoch 42/100\n",
      "3327/3327 [==============================] - 0s 66us/step - loss: 0.5385\n",
      "Epoch 43/100\n",
      "3327/3327 [==============================] - 0s 66us/step - loss: 0.5388\n",
      "Epoch 44/100\n",
      "3327/3327 [==============================] - 0s 66us/step - loss: 0.5334\n",
      "Epoch 45/100\n",
      "3327/3327 [==============================] - 0s 66us/step - loss: 0.5226\n",
      "Epoch 46/100\n",
      "3327/3327 [==============================] - 0s 66us/step - loss: 0.5212\n",
      "Epoch 47/100\n",
      "3327/3327 [==============================] - 0s 69us/step - loss: 0.5163\n",
      "Epoch 48/100\n",
      "3327/3327 [==============================] - 0s 63us/step - loss: 0.5130\n",
      "Epoch 49/100\n",
      "3327/3327 [==============================] - 0s 66us/step - loss: 0.5082\n",
      "Epoch 50/100\n",
      "3327/3327 [==============================] - 0s 76us/step - loss: 0.5033\n",
      "Epoch 51/100\n",
      "3327/3327 [==============================] - 0s 70us/step - loss: 0.5028\n",
      "Epoch 52/100\n",
      "3327/3327 [==============================] - 0s 70us/step - loss: 0.4971\n",
      "Epoch 53/100\n",
      "3327/3327 [==============================] - 0s 70us/step - loss: 0.4953\n",
      "Epoch 54/100\n",
      "3327/3327 [==============================] - 0s 71us/step - loss: 0.4908\n",
      "Epoch 55/100\n",
      "3327/3327 [==============================] - 0s 70us/step - loss: 0.4831\n",
      "Epoch 56/100\n",
      "3327/3327 [==============================] - 0s 66us/step - loss: 0.4840\n",
      "Epoch 57/100\n",
      "3327/3327 [==============================] - 0s 75us/step - loss: 0.4781\n",
      "Epoch 58/100\n",
      "3327/3327 [==============================] - 0s 70us/step - loss: 0.4734\n",
      "Epoch 59/100\n",
      "3327/3327 [==============================] - 0s 71us/step - loss: 0.4666\n",
      "Epoch 60/100\n",
      "3327/3327 [==============================] - 0s 66us/step - loss: 0.4672\n",
      "Epoch 61/100\n",
      "3327/3327 [==============================] - 0s 70us/step - loss: 0.4631\n",
      "Epoch 62/100\n",
      "3327/3327 [==============================] - 0s 66us/step - loss: 0.4639\n",
      "Epoch 63/100\n",
      "3327/3327 [==============================] - 0s 70us/step - loss: 0.4564\n",
      "Epoch 64/100\n",
      "3327/3327 [==============================] - 0s 70us/step - loss: 0.4485\n",
      "Epoch 65/100\n",
      "3327/3327 [==============================] - 0s 70us/step - loss: 0.4442\n",
      "Epoch 66/100\n",
      "3327/3327 [==============================] - 0s 70us/step - loss: 0.4448\n",
      "Epoch 67/100\n",
      "3327/3327 [==============================] - 0s 71us/step - loss: 0.4353\n",
      "Epoch 68/100\n",
      "3327/3327 [==============================] - 0s 70us/step - loss: 0.4336\n",
      "Epoch 69/100\n",
      "3327/3327 [==============================] - 0s 73us/step - loss: 0.4302\n",
      "Epoch 70/100\n",
      "3327/3327 [==============================] - 0s 70us/step - loss: 0.4295\n",
      "Epoch 71/100\n",
      "3327/3327 [==============================] - 0s 68us/step - loss: 0.4251\n",
      "Epoch 72/100\n",
      "3327/3327 [==============================] - 0s 65us/step - loss: 0.4192\n",
      "Epoch 73/100\n",
      "3327/3327 [==============================] - 0s 66us/step - loss: 0.4145\n",
      "Epoch 74/100\n",
      "3327/3327 [==============================] - 0s 70us/step - loss: 0.4150\n",
      "Epoch 75/100\n",
      "3327/3327 [==============================] - 0s 70us/step - loss: 0.4105\n",
      "Epoch 76/100\n",
      "3327/3327 [==============================] - 0s 63us/step - loss: 0.4089\n",
      "Epoch 77/100\n",
      "3327/3327 [==============================] - 0s 75us/step - loss: 0.4038\n",
      "Epoch 78/100\n",
      "3327/3327 [==============================] - 0s 66us/step - loss: 0.4002\n",
      "Epoch 79/100\n",
      "3327/3327 [==============================] - 0s 70us/step - loss: 0.3970\n",
      "Epoch 80/100\n",
      "3327/3327 [==============================] - 0s 70us/step - loss: 0.3920\n",
      "Epoch 81/100\n",
      "3327/3327 [==============================] - 0s 66us/step - loss: 0.3918\n",
      "Epoch 82/100\n",
      "3327/3327 [==============================] - 0s 70us/step - loss: 0.3841\n",
      "Epoch 83/100\n",
      "3327/3327 [==============================] - 0s 70us/step - loss: 0.3823\n",
      "Epoch 84/100\n",
      "3327/3327 [==============================] - 0s 66us/step - loss: 0.3790\n",
      "Epoch 85/100\n",
      "3327/3327 [==============================] - 0s 70us/step - loss: 0.3737\n",
      "Epoch 86/100\n",
      "3327/3327 [==============================] - 0s 66us/step - loss: 0.3705\n",
      "Epoch 87/100\n",
      "3327/3327 [==============================] - 0s 66us/step - loss: 0.3695\n",
      "Epoch 88/100\n",
      "3327/3327 [==============================] - 0s 66us/step - loss: 0.3621\n",
      "Epoch 89/100\n"
     ]
    },
    {
     "name": "stdout",
     "output_type": "stream",
     "text": [
      "3327/3327 [==============================] - 0s 70us/step - loss: 0.3608\n",
      "Epoch 90/100\n",
      "3327/3327 [==============================] - 0s 66us/step - loss: 0.3584\n",
      "Epoch 91/100\n",
      "3327/3327 [==============================] - 0s 66us/step - loss: 0.3518\n",
      "Epoch 92/100\n",
      "3327/3327 [==============================] - 0s 66us/step - loss: 0.3491\n",
      "Epoch 93/100\n",
      "3327/3327 [==============================] - 0s 68us/step - loss: 0.3455\n",
      "Epoch 94/100\n",
      "3327/3327 [==============================] - 0s 66us/step - loss: 0.3445\n",
      "Epoch 95/100\n",
      "3327/3327 [==============================] - 0s 70us/step - loss: 0.3377\n",
      "Epoch 96/100\n",
      "3327/3327 [==============================] - 0s 66us/step - loss: 0.3362\n",
      "Epoch 97/100\n",
      "3327/3327 [==============================] - 0s 66us/step - loss: 0.3299\n",
      "Epoch 98/100\n",
      "3327/3327 [==============================] - 0s 67us/step - loss: 0.3350\n",
      "Epoch 99/100\n",
      "3327/3327 [==============================] - 0s 66us/step - loss: 0.3274\n",
      "Epoch 100/100\n",
      "3327/3327 [==============================] - 0s 66us/step - loss: 0.3301\n",
      "0.5119481571486432\n"
     ]
    }
   ],
   "source": [
    "print(simple_nn(X_train,X_test,y_train,y_test))"
   ]
  },
  {
   "cell_type": "code",
   "execution_count": 27,
   "metadata": {},
   "outputs": [],
   "source": [
    "limit_mem()"
   ]
  },
  {
   "cell_type": "code",
   "execution_count": null,
   "metadata": {},
   "outputs": [],
   "source": []
  }
 ],
 "metadata": {
  "kernelspec": {
   "display_name": "Python 3",
   "language": "python",
   "name": "python3"
  },
  "language_info": {
   "codemirror_mode": {
    "name": "ipython",
    "version": 3
   },
   "file_extension": ".py",
   "mimetype": "text/x-python",
   "name": "python",
   "nbconvert_exporter": "python",
   "pygments_lexer": "ipython3",
   "version": "3.6.8"
  }
 },
 "nbformat": 4,
 "nbformat_minor": 2
}
