{
 "cells": [
  {
   "cell_type": "code",
   "execution_count": 1,
   "metadata": {},
   "outputs": [
    {
     "name": "stderr",
     "output_type": "stream",
     "text": [
      "C:\\Users\\X\\AppData\\Local\\Continuum\\anaconda3\\envs\\mlgpu\\lib\\site-packages\\gensim\\utils.py:1197: UserWarning: detected Windows; aliasing chunkize to chunkize_serial\n",
      "  warnings.warn(\"detected Windows; aliasing chunkize to chunkize_serial\")\n",
      "Using TensorFlow backend.\n"
     ]
    }
   ],
   "source": [
    "import sqlite3\n",
    "import utils\n",
    "import pandas as pd\n",
    "from sklearn.model_selection import train_test_split\n",
    "from sklearn.linear_model import LogisticRegression\n",
    "from sklearn.metrics import f1_score\n",
    "from sklearn.neighbors import KNeighborsClassifier \n",
    "from sklearn.tree import DecisionTreeClassifier\n",
    "from sklearn.naive_bayes import GaussianNB\n",
    "from sklearn.dummy import DummyClassifier\n",
    "from sklearn import ensemble\n",
    "from scipy.sparse import coo_matrix\n",
    "from sklearn import svm\n",
    "\n",
    "import xgboost\n",
    "from keras.preprocessing import text, sequence\n",
    "from keras import layers, models, optimizers\n",
    "\n",
    "import numpy as np\n",
    "import torch"
   ]
  },
  {
   "cell_type": "code",
   "execution_count": 2,
   "metadata": {},
   "outputs": [],
   "source": [
    "import keras.backend as K"
   ]
  },
  {
   "cell_type": "code",
   "execution_count": 3,
   "metadata": {},
   "outputs": [],
   "source": [
    "def w2v_average_wiki():\n",
    "    conn=sqlite3.connect('songs.db')\n",
    "    cur=conn.cursor()\n",
    "    example_text=cur.execute(\"select Lyrics from song where Lyrics is not null\").fetchall()\n",
    "    labels=[i[0] for i in cur.execute(\"select Economic from song where Lyrics is not null\").fetchall()]\n",
    "    songs=[]\n",
    "    for i in example_text:\n",
    "        songs.append(utils.tokenize_word(utils.clean_text(i[0])))\n",
    "    songs=utils.w2v_average_wiki(songs,'glove-twitter-100')\n",
    "    return np.array(songs),np.array(labels)"
   ]
  },
  {
   "cell_type": "code",
   "execution_count": 4,
   "metadata": {},
   "outputs": [],
   "source": [
    "def limit_mem():\n",
    "    K.get_session().close()\n",
    "    cfg = K.tf.ConfigProto()\n",
    "    cfg.gpu_options.allow_growth = True\n",
    "    K.set_session(K.tf.Session(config=cfg))"
   ]
  },
  {
   "cell_type": "code",
   "execution_count": 5,
   "metadata": {},
   "outputs": [],
   "source": [
    "X,y=w2v_average_wiki()"
   ]
  },
  {
   "cell_type": "code",
   "execution_count": 6,
   "metadata": {},
   "outputs": [],
   "source": [
    "X_train,X_test,y_train,y_test=train_test_split(X,y,test_size=0.5)"
   ]
  },
  {
   "cell_type": "code",
   "execution_count": 7,
   "metadata": {},
   "outputs": [],
   "source": [
    "def dummy(X_train,X_test,y_train,y_test):\n",
    "    dummy = DummyClassifier()\n",
    "    dummy.fit(X_train, y_train)\n",
    "    y_pred=dummy.predict(X_test)\n",
    "    return f1_score(y_test,y_pred)"
   ]
  },
  {
   "cell_type": "code",
   "execution_count": 8,
   "metadata": {},
   "outputs": [
    {
     "name": "stdout",
     "output_type": "stream",
     "text": [
      "0.4433734939759036\n"
     ]
    }
   ],
   "source": [
    "print(dummy(X_train,X_test,y_train,y_test))"
   ]
  },
  {
   "cell_type": "code",
   "execution_count": 9,
   "metadata": {},
   "outputs": [],
   "source": [
    "def logistics_sentiment():\n",
    "    conn=sqlite3.connect('SONGS.db')\n",
    "    data=pd.read_sql(\"select Economic,neg,pos,neu,comp from song\",conn).dropna()\n",
    "    X=data[['neg','pos','neu','comp']]\n",
    "    y=data.Economic\n",
    "    X_train,X_test,y_train,y_test=train_test_split(X,y,test_size=0.3)\n",
    "    logreg = LogisticRegression()\n",
    "    logreg.fit(X_train,y_train)\n",
    "    y_pred=logreg.predict(X_test)\n",
    "    return f1_score(y_test,y_pred)"
   ]
  },
  {
   "cell_type": "code",
   "execution_count": 10,
   "metadata": {},
   "outputs": [
    {
     "name": "stdout",
     "output_type": "stream",
     "text": [
      "0.0\n"
     ]
    },
    {
     "name": "stderr",
     "output_type": "stream",
     "text": [
      "C:\\Users\\X\\AppData\\Local\\Continuum\\anaconda3\\envs\\mlgpu\\lib\\site-packages\\sklearn\\linear_model\\logistic.py:433: FutureWarning: Default solver will be changed to 'lbfgs' in 0.22. Specify a solver to silence this warning.\n",
      "  FutureWarning)\n",
      "C:\\Users\\X\\AppData\\Local\\Continuum\\anaconda3\\envs\\mlgpu\\lib\\site-packages\\sklearn\\metrics\\classification.py:1143: UndefinedMetricWarning: F-score is ill-defined and being set to 0.0 due to no predicted samples.\n",
      "  'precision', 'predicted', average, warn_for)\n"
     ]
    }
   ],
   "source": [
    "print(logistics_sentiment())"
   ]
  },
  {
   "cell_type": "code",
   "execution_count": 11,
   "metadata": {},
   "outputs": [],
   "source": [
    "def logistics(X_train,X_test,y_train,y_test):\n",
    "    logreg = LogisticRegression()\n",
    "    logreg.fit(X_train,y_train)\n",
    "    y_pred=logreg.predict(X_test)\n",
    "    return f1_score(y_test,y_pred)"
   ]
  },
  {
   "cell_type": "code",
   "execution_count": 12,
   "metadata": {},
   "outputs": [
    {
     "name": "stdout",
     "output_type": "stream",
     "text": [
      "0.3989747970952584\n"
     ]
    },
    {
     "name": "stderr",
     "output_type": "stream",
     "text": [
      "C:\\Users\\X\\AppData\\Local\\Continuum\\anaconda3\\envs\\mlgpu\\lib\\site-packages\\sklearn\\linear_model\\logistic.py:433: FutureWarning: Default solver will be changed to 'lbfgs' in 0.22. Specify a solver to silence this warning.\n",
      "  FutureWarning)\n"
     ]
    }
   ],
   "source": [
    "print(logistics(X_train,X_test,y_train,y_test))"
   ]
  },
  {
   "cell_type": "code",
   "execution_count": 13,
   "metadata": {},
   "outputs": [],
   "source": [
    "def naive_bayes(X_train,X_test,y_train,y_test):\n",
    "    nb=GaussianNB()\n",
    "    nb.fit(X_train, y_train)\n",
    "    y_pred=nb.predict(X_test)\n",
    "    return f1_score(y_test,y_pred)"
   ]
  },
  {
   "cell_type": "code",
   "execution_count": 14,
   "metadata": {},
   "outputs": [
    {
     "name": "stdout",
     "output_type": "stream",
     "text": [
      "0.5604688332445391\n"
     ]
    }
   ],
   "source": [
    "print(naive_bayes(X_train,X_test,y_train,y_test))"
   ]
  },
  {
   "cell_type": "code",
   "execution_count": 15,
   "metadata": {},
   "outputs": [],
   "source": [
    "def support_vector(X_train,X_test,y_train,y_test):\n",
    "    model = svm.SVC()\n",
    "    model.fit(X_train, y_train)\n",
    "    y_pred = model.predict(X_test)\n",
    "    return f1_score(y_test, y_pred)"
   ]
  },
  {
   "cell_type": "code",
   "execution_count": 16,
   "metadata": {},
   "outputs": [
    {
     "name": "stderr",
     "output_type": "stream",
     "text": [
      "C:\\Users\\X\\AppData\\Local\\Continuum\\anaconda3\\envs\\mlgpu\\lib\\site-packages\\sklearn\\svm\\base.py:196: FutureWarning: The default value of gamma will change from 'auto' to 'scale' in version 0.22 to account better for unscaled features. Set gamma explicitly to 'auto' or 'scale' to avoid this warning.\n",
      "  \"avoid this warning.\", FutureWarning)\n"
     ]
    },
    {
     "name": "stdout",
     "output_type": "stream",
     "text": [
      "0.0\n"
     ]
    },
    {
     "name": "stderr",
     "output_type": "stream",
     "text": [
      "C:\\Users\\X\\AppData\\Local\\Continuum\\anaconda3\\envs\\mlgpu\\lib\\site-packages\\sklearn\\metrics\\classification.py:1143: UndefinedMetricWarning: F-score is ill-defined and being set to 0.0 due to no predicted samples.\n",
      "  'precision', 'predicted', average, warn_for)\n"
     ]
    }
   ],
   "source": [
    "print(support_vector(X_train,X_test,y_train,y_test))"
   ]
  },
  {
   "cell_type": "code",
   "execution_count": 17,
   "metadata": {},
   "outputs": [],
   "source": [
    "def knn(X_train,X_test,y_train,y_test):\n",
    "    model = KNeighborsClassifier(n_neighbors=5) \n",
    "    model.fit(X_train, y_train)\n",
    "    y_pred = model.predict(X_test)\n",
    "    return f1_score(y_test, y_pred)"
   ]
  },
  {
   "cell_type": "code",
   "execution_count": 18,
   "metadata": {},
   "outputs": [
    {
     "name": "stdout",
     "output_type": "stream",
     "text": [
      "0.5587016574585636\n"
     ]
    }
   ],
   "source": [
    "print(knn(X_train,X_test,y_train,y_test))"
   ]
  },
  {
   "cell_type": "code",
   "execution_count": 19,
   "metadata": {},
   "outputs": [],
   "source": [
    "def decision_tree(X_train,X_test,y_train,y_test):\n",
    "    model = DecisionTreeClassifier(random_state=0)\n",
    "    model.fit(X_train, y_train)\n",
    "    y_pred = model.predict(X_test)\n",
    "    return f1_score(y_test, y_pred)"
   ]
  },
  {
   "cell_type": "code",
   "execution_count": 20,
   "metadata": {},
   "outputs": [
    {
     "name": "stdout",
     "output_type": "stream",
     "text": [
      "0.5892608089260809\n"
     ]
    }
   ],
   "source": [
    "print(decision_tree(X_train,X_test,y_train,y_test))"
   ]
  },
  {
   "cell_type": "code",
   "execution_count": 21,
   "metadata": {},
   "outputs": [],
   "source": [
    "def random_forest(X_train,X_test,y_train,y_test):\n",
    "    model=ensemble.RandomForestClassifier()\n",
    "    model.fit(X_train, y_train)\n",
    "    y_pred = model.predict(X_test)\n",
    "    return f1_score(y_test, y_pred)"
   ]
  },
  {
   "cell_type": "code",
   "execution_count": 22,
   "metadata": {},
   "outputs": [
    {
     "name": "stderr",
     "output_type": "stream",
     "text": [
      "C:\\Users\\X\\AppData\\Local\\Continuum\\anaconda3\\envs\\mlgpu\\lib\\site-packages\\sklearn\\ensemble\\forest.py:246: FutureWarning: The default value of n_estimators will change from 10 in version 0.20 to 100 in 0.22.\n",
      "  \"10 in version 0.20 to 100 in 0.22.\", FutureWarning)\n"
     ]
    },
    {
     "name": "stdout",
     "output_type": "stream",
     "text": [
      "0.5443330763299924\n"
     ]
    }
   ],
   "source": [
    "print(random_forest(X_train,X_test,y_train,y_test))"
   ]
  },
  {
   "cell_type": "code",
   "execution_count": 23,
   "metadata": {},
   "outputs": [],
   "source": [
    "def xgb(X_train,X_test,y_train,y_test):\n",
    "    X_train=coo_matrix(X_train).tocsc()\n",
    "    X_test=coo_matrix(X_test).tocsc()\n",
    "    model=xgboost.XGBClassifier()\n",
    "    model.fit(X_train, y_train)\n",
    "    y_pred = model.predict(X_test)\n",
    "    return f1_score(y_test, y_pred)"
   ]
  },
  {
   "cell_type": "code",
   "execution_count": 24,
   "metadata": {},
   "outputs": [
    {
     "name": "stdout",
     "output_type": "stream",
     "text": [
      "0.5102781136638452\n"
     ]
    }
   ],
   "source": [
    "print(xgb(X_train,X_test,y_train,y_test))"
   ]
  },
  {
   "cell_type": "code",
   "execution_count": 25,
   "metadata": {},
   "outputs": [],
   "source": [
    "def simple_nn(X_train,X_test,y_train,y_test):\n",
    "\n",
    "    def create_model_architecture(input_size):\n",
    "        input_layer = layers.Input(shape=(input_size,),)\n",
    "        hidden_layer = layers.Dense(200, activation=\"relu\")(input_layer)\n",
    "        output_layer = layers.Dense(1, activation=\"sigmoid\")(hidden_layer)\n",
    "        classifier = models.Model(inputs = input_layer, outputs = output_layer)\n",
    "        classifier.compile(optimizer=optimizers.Adam(), loss='binary_crossentropy')\n",
    "        return classifier\n",
    "\n",
    "    model=create_model_architecture(len(X_train[0]))\n",
    "    model.fit(X_train, y_train,epochs=100)\n",
    "    y_pred = [int(round(i[0])) for i in model.predict(X_test)]\n",
    "    limit_mem()\n",
    "    return f1_score(y_test, y_pred)"
   ]
  },
  {
   "cell_type": "code",
   "execution_count": 26,
   "metadata": {},
   "outputs": [
    {
     "name": "stdout",
     "output_type": "stream",
     "text": [
      "WARNING:tensorflow:From C:\\Users\\X\\AppData\\Local\\Continuum\\anaconda3\\envs\\mlgpu\\lib\\site-packages\\tensorflow\\python\\framework\\op_def_library.py:263: colocate_with (from tensorflow.python.framework.ops) is deprecated and will be removed in a future version.\n",
      "Instructions for updating:\n",
      "Colocations handled automatically by placer.\n",
      "WARNING:tensorflow:From C:\\Users\\X\\AppData\\Local\\Continuum\\anaconda3\\envs\\mlgpu\\lib\\site-packages\\tensorflow\\python\\ops\\math_ops.py:3066: to_int32 (from tensorflow.python.ops.math_ops) is deprecated and will be removed in a future version.\n",
      "Instructions for updating:\n",
      "Use tf.cast instead.\n",
      "Epoch 1/100\n",
      "3327/3327 [==============================] - 4s 1ms/step - loss: 0.6801\n",
      "Epoch 2/100\n",
      "3327/3327 [==============================] - 0s 85us/step - loss: 0.6710\n",
      "Epoch 3/100\n",
      "3327/3327 [==============================] - 0s 91us/step - loss: 0.6632\n",
      "Epoch 4/100\n",
      "3327/3327 [==============================] - 0s 80us/step - loss: 0.6563\n",
      "Epoch 5/100\n",
      "3327/3327 [==============================] - 0s 89us/step - loss: 0.6494\n",
      "Epoch 6/100\n",
      "3327/3327 [==============================] - 0s 127us/step - loss: 0.6448\n",
      "Epoch 7/100\n",
      "3327/3327 [==============================] - 0s 99us/step - loss: 0.6381\n",
      "Epoch 8/100\n",
      "3327/3327 [==============================] - 0s 94us/step - loss: 0.6313\n",
      "Epoch 9/100\n",
      "3327/3327 [==============================] - 0s 104us/step - loss: 0.6240\n",
      "Epoch 10/100\n",
      "3327/3327 [==============================] - 0s 85us/step - loss: 0.6151\n",
      "Epoch 11/100\n",
      "3327/3327 [==============================] - 0s 76us/step - loss: 0.6059\n",
      "Epoch 12/100\n",
      "3327/3327 [==============================] - 0s 89us/step - loss: 0.5986\n",
      "Epoch 13/100\n",
      "3327/3327 [==============================] - 0s 81us/step - loss: 0.5923\n",
      "Epoch 14/100\n",
      "3327/3327 [==============================] - 0s 85us/step - loss: 0.5841\n",
      "Epoch 15/100\n",
      "3327/3327 [==============================] - 0s 89us/step - loss: 0.5788\n",
      "Epoch 16/100\n",
      "3327/3327 [==============================] - 0s 90us/step - loss: 0.5694\n",
      "Epoch 17/100\n",
      "3327/3327 [==============================] - 0s 99us/step - loss: 0.5615\n",
      "Epoch 18/100\n",
      "3327/3327 [==============================] - 0s 99us/step - loss: 0.5551\n",
      "Epoch 19/100\n",
      "3327/3327 [==============================] - 0s 99us/step - loss: 0.5446\n",
      "Epoch 20/100\n",
      "3327/3327 [==============================] - 0s 94us/step - loss: 0.5385\n",
      "Epoch 21/100\n",
      "3327/3327 [==============================] - 0s 103us/step - loss: 0.5333\n",
      "Epoch 22/100\n",
      "3327/3327 [==============================] - 0s 122us/step - loss: 0.5199\n",
      "Epoch 23/100\n",
      "3327/3327 [==============================] - 0s 146us/step - loss: 0.5165\n",
      "Epoch 24/100\n",
      "3327/3327 [==============================] - 1s 155us/step - loss: 0.5053\n",
      "Epoch 25/100\n",
      "3327/3327 [==============================] - 0s 116us/step - loss: 0.5011\n",
      "Epoch 26/100\n",
      "3327/3327 [==============================] - 0s 99us/step - loss: 0.4905\n",
      "Epoch 27/100\n",
      "3327/3327 [==============================] - 0s 97us/step - loss: 0.4884\n",
      "Epoch 28/100\n",
      "3327/3327 [==============================] - 0s 94us/step - loss: 0.4795\n",
      "Epoch 29/100\n",
      "3327/3327 [==============================] - 0s 85us/step - loss: 0.4721\n",
      "Epoch 30/100\n",
      "3327/3327 [==============================] - 0s 110us/step - loss: 0.4656\n",
      "Epoch 31/100\n",
      "3327/3327 [==============================] - 0s 131us/step - loss: 0.4555\n",
      "Epoch 32/100\n",
      "3327/3327 [==============================] - 0s 136us/step - loss: 0.4518\n",
      "Epoch 33/100\n",
      "3327/3327 [==============================] - 0s 103us/step - loss: 0.4470\n",
      "Epoch 34/100\n",
      "3327/3327 [==============================] - 1s 164us/step - loss: 0.4363\n",
      "Epoch 35/100\n",
      "3327/3327 [==============================] - 0s 145us/step - loss: 0.4325\n",
      "Epoch 36/100\n",
      "3327/3327 [==============================] - 0s 127us/step - loss: 0.4261\n",
      "Epoch 37/100\n",
      "3327/3327 [==============================] - 0s 108us/step - loss: 0.4183\n",
      "Epoch 38/100\n",
      "3327/3327 [==============================] - 0s 110us/step - loss: 0.4126\n",
      "Epoch 39/100\n",
      "3327/3327 [==============================] - 0s 99us/step - loss: 0.4110\n",
      "Epoch 40/100\n",
      "3327/3327 [==============================] - 0s 91us/step - loss: 0.3988\n",
      "Epoch 41/100\n",
      "3327/3327 [==============================] - 0s 89us/step - loss: 0.3991\n",
      "Epoch 42/100\n",
      "3327/3327 [==============================] - 0s 80us/step - loss: 0.3885\n",
      "Epoch 43/100\n",
      "3327/3327 [==============================] - 0s 80us/step - loss: 0.3816\n",
      "Epoch 44/100\n",
      "3327/3327 [==============================] - 0s 94us/step - loss: 0.3741\n",
      "Epoch 45/100\n",
      "3327/3327 [==============================] - 0s 94us/step - loss: 0.3716\n",
      "Epoch 46/100\n",
      "3327/3327 [==============================] - 0s 122us/step - loss: 0.3671 0s - loss: 0.37\n",
      "Epoch 47/100\n",
      "3327/3327 [==============================] - 0s 103us/step - loss: 0.3633\n",
      "Epoch 48/100\n",
      "3327/3327 [==============================] - 0s 113us/step - loss: 0.3529\n",
      "Epoch 49/100\n",
      "3327/3327 [==============================] - 0s 89us/step - loss: 0.3537\n",
      "Epoch 50/100\n",
      "3327/3327 [==============================] - 0s 99us/step - loss: 0.3434\n",
      "Epoch 51/100\n",
      "3327/3327 [==============================] - 0s 103us/step - loss: 0.3402\n",
      "Epoch 52/100\n",
      "3327/3327 [==============================] - 0s 89us/step - loss: 0.3333\n",
      "Epoch 53/100\n",
      "3327/3327 [==============================] - 0s 113us/step - loss: 0.3310\n",
      "Epoch 54/100\n",
      "3327/3327 [==============================] - 0s 96us/step - loss: 0.3279\n",
      "Epoch 55/100\n",
      "3327/3327 [==============================] - 0s 129us/step - loss: 0.3188\n",
      "Epoch 56/100\n",
      "3327/3327 [==============================] - 0s 117us/step - loss: 0.3147\n",
      "Epoch 57/100\n",
      "3327/3327 [==============================] - 0s 117us/step - loss: 0.3168\n",
      "Epoch 58/100\n",
      "3327/3327 [==============================] - 0s 130us/step - loss: 0.3087\n",
      "Epoch 59/100\n",
      "3327/3327 [==============================] - 0s 103us/step - loss: 0.3024\n",
      "Epoch 60/100\n",
      "3327/3327 [==============================] - 0s 108us/step - loss: 0.3010\n",
      "Epoch 61/100\n",
      "3327/3327 [==============================] - 0s 117us/step - loss: 0.2948\n",
      "Epoch 62/100\n",
      "3327/3327 [==============================] - 0s 136us/step - loss: 0.2940\n",
      "Epoch 63/100\n",
      "3327/3327 [==============================] - 0s 92us/step - loss: 0.2897\n",
      "Epoch 64/100\n",
      "3327/3327 [==============================] - 0s 85us/step - loss: 0.2851\n",
      "Epoch 65/100\n",
      "3327/3327 [==============================] - 0s 94us/step - loss: 0.2814\n",
      "Epoch 66/100\n",
      "3327/3327 [==============================] - 0s 85us/step - loss: 0.2767\n",
      "Epoch 67/100\n",
      "3327/3327 [==============================] - 0s 75us/step - loss: 0.2712\n",
      "Epoch 68/100\n",
      "3327/3327 [==============================] - 0s 77us/step - loss: 0.2683\n",
      "Epoch 69/100\n",
      "3327/3327 [==============================] - 0s 80us/step - loss: 0.2639\n",
      "Epoch 70/100\n",
      "3327/3327 [==============================] - 0s 81us/step - loss: 0.2629\n",
      "Epoch 71/100\n",
      "3327/3327 [==============================] - 0s 89us/step - loss: 0.2504\n",
      "Epoch 72/100\n",
      "3327/3327 [==============================] - 0s 89us/step - loss: 0.2581\n",
      "Epoch 73/100\n",
      "3327/3327 [==============================] - 0s 90us/step - loss: 0.2511\n",
      "Epoch 74/100\n",
      "3327/3327 [==============================] - 0s 84us/step - loss: 0.2446\n",
      "Epoch 75/100\n",
      "3327/3327 [==============================] - 0s 80us/step - loss: 0.2451\n",
      "Epoch 76/100\n",
      "3327/3327 [==============================] - 0s 85us/step - loss: 0.2405\n",
      "Epoch 77/100\n",
      "3327/3327 [==============================] - 0s 94us/step - loss: 0.2361\n",
      "Epoch 78/100\n",
      "3327/3327 [==============================] - 0s 85us/step - loss: 0.2301\n",
      "Epoch 79/100\n",
      "3327/3327 [==============================] - 0s 103us/step - loss: 0.2334\n",
      "Epoch 80/100\n",
      "3327/3327 [==============================] - 0s 115us/step - loss: 0.2241\n",
      "Epoch 81/100\n",
      "3327/3327 [==============================] - 0s 89us/step - loss: 0.2250\n",
      "Epoch 82/100\n",
      "3327/3327 [==============================] - 0s 117us/step - loss: 0.2299\n",
      "Epoch 83/100\n",
      "3327/3327 [==============================] - 0s 104us/step - loss: 0.2140\n",
      "Epoch 84/100\n",
      "3327/3327 [==============================] - 0s 84us/step - loss: 0.2164\n",
      "Epoch 85/100\n",
      "3327/3327 [==============================] - 0s 122us/step - loss: 0.2101\n",
      "Epoch 86/100\n",
      "3327/3327 [==============================] - 0s 100us/step - loss: 0.2145\n",
      "Epoch 87/100\n",
      "3327/3327 [==============================] - 0s 89us/step - loss: 0.2049\n",
      "Epoch 88/100\n"
     ]
    },
    {
     "name": "stdout",
     "output_type": "stream",
     "text": [
      "3327/3327 [==============================] - 0s 89us/step - loss: 0.2039\n",
      "Epoch 89/100\n",
      "3327/3327 [==============================] - 0s 85us/step - loss: 0.2042\n",
      "Epoch 90/100\n",
      "3327/3327 [==============================] - 0s 99us/step - loss: 0.2055\n",
      "Epoch 91/100\n",
      "3327/3327 [==============================] - 0s 80us/step - loss: 0.1938\n",
      "Epoch 92/100\n",
      "3327/3327 [==============================] - 0s 85us/step - loss: 0.1939\n",
      "Epoch 93/100\n",
      "3327/3327 [==============================] - 0s 104us/step - loss: 0.1931\n",
      "Epoch 94/100\n",
      "3327/3327 [==============================] - 0s 94us/step - loss: 0.1888\n",
      "Epoch 95/100\n",
      "3327/3327 [==============================] - 0s 85us/step - loss: 0.1851\n",
      "Epoch 96/100\n",
      "3327/3327 [==============================] - 0s 127us/step - loss: 0.1810\n",
      "Epoch 97/100\n",
      "3327/3327 [==============================] - 0s 108us/step - loss: 0.1776\n",
      "Epoch 98/100\n",
      "3327/3327 [==============================] - 0s 90us/step - loss: 0.1864\n",
      "Epoch 99/100\n",
      "3327/3327 [==============================] - 0s 99us/step - loss: 0.1755\n",
      "Epoch 100/100\n",
      "3327/3327 [==============================] - 0s 120us/step - loss: 0.1720\n",
      "0.595846101464079\n"
     ]
    }
   ],
   "source": [
    "print(simple_nn(X_train,X_test,y_train,y_test))"
   ]
  },
  {
   "cell_type": "code",
   "execution_count": 27,
   "metadata": {},
   "outputs": [],
   "source": [
    "limit_mem()"
   ]
  },
  {
   "cell_type": "code",
   "execution_count": null,
   "metadata": {},
   "outputs": [],
   "source": []
  }
 ],
 "metadata": {
  "kernelspec": {
   "display_name": "Python 3",
   "language": "python",
   "name": "python3"
  },
  "language_info": {
   "codemirror_mode": {
    "name": "ipython",
    "version": 3
   },
   "file_extension": ".py",
   "mimetype": "text/x-python",
   "name": "python",
   "nbconvert_exporter": "python",
   "pygments_lexer": "ipython3",
   "version": "3.6.8"
  }
 },
 "nbformat": 4,
 "nbformat_minor": 2
}
